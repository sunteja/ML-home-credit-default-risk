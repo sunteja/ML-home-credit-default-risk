{
 "cells": [
  {
   "cell_type": "markdown",
   "metadata": {},
   "source": [
    "####  Before you start running the code, please keep in mind that the application_train.csv and application_test.csv files should be in the same folder as this code is in. Also, our top 2 submissions are got by the Xgboost model and the ensemble of the Xgboost and the Logistic Regression. So, we are submitting only one file which has all the models that we tried since all the models use the same preprocessing and EDA steps. "
   ]
  },
  {
   "cell_type": "markdown",
   "metadata": {},
   "source": [
    "### Work of Team Codex - T. Surya Teja (IMT2018080) , Venkata Raghava (IMT2018023) and Abdul Hadi (IMT2018041)"
   ]
  },
  {
   "cell_type": "code",
   "execution_count": 1,
   "metadata": {},
   "outputs": [],
   "source": [
    "# import numpy for math calculations\n",
    "import numpy as np\n",
    "\n",
    "# import pandas for data (csv) manipulation\n",
    "import pandas as pd\n",
    "\n",
    "# import matplotlib for plotting\n",
    "import matplotlib.pyplot as plt\n",
    "\n",
    "# import seaborn for more plotting options(built on top of matplotlib)\n",
    "import seaborn as sns\n",
    "\n",
    "\n",
    "# Supress unnecessary warnings so that the presentation looks clean\n",
    "import warnings\n",
    "warnings.filterwarnings(\"ignore\")"
   ]
  },
  {
   "cell_type": "code",
   "execution_count": 2,
   "metadata": {},
   "outputs": [],
   "source": [
    "#importing the training and test data set\n",
    "train = pd.read_csv(\"./application_train.csv\")\n",
    "test = pd.read_csv(\"./application_test.csv\")"
   ]
  },
  {
   "cell_type": "code",
   "execution_count": 3,
   "metadata": {},
   "outputs": [],
   "source": [
    "#Storing the SK_ID_CURR column in the skid for later use\n",
    "skid = test['SK_ID_CURR']"
   ]
  },
  {
   "cell_type": "code",
   "execution_count": 4,
   "metadata": {},
   "outputs": [
    {
     "name": "stdout",
     "output_type": "stream",
     "text": [
      "<class 'pandas.core.frame.DataFrame'>\n",
      "RangeIndex: 199882 entries, 0 to 199881\n",
      "Columns: 122 entries, SK_ID_CURR to AMT_REQ_CREDIT_BUREAU_YEAR\n",
      "dtypes: float64(65), int64(40), object(17)\n",
      "memory usage: 186.0+ MB\n"
     ]
    }
   ],
   "source": [
    "#displaying information of trained data\n",
    "train.info()"
   ]
  },
  {
   "cell_type": "code",
   "execution_count": 5,
   "metadata": {},
   "outputs": [
    {
     "data": {
      "text/html": [
       "<div>\n",
       "<style scoped>\n",
       "    .dataframe tbody tr th:only-of-type {\n",
       "        vertical-align: middle;\n",
       "    }\n",
       "\n",
       "    .dataframe tbody tr th {\n",
       "        vertical-align: top;\n",
       "    }\n",
       "\n",
       "    .dataframe thead th {\n",
       "        text-align: right;\n",
       "    }\n",
       "</style>\n",
       "<table border=\"1\" class=\"dataframe\">\n",
       "  <thead>\n",
       "    <tr style=\"text-align: right;\">\n",
       "      <th></th>\n",
       "      <th>TARGET</th>\n",
       "      <th>CNT_CHILDREN</th>\n",
       "      <th>AMT_INCOME_TOTAL</th>\n",
       "      <th>AMT_CREDIT</th>\n",
       "      <th>AMT_ANNUITY</th>\n",
       "      <th>AMT_GOODS_PRICE</th>\n",
       "      <th>REGION_POPULATION_RELATIVE</th>\n",
       "      <th>DAYS_BIRTH</th>\n",
       "      <th>DAYS_EMPLOYED</th>\n",
       "      <th>DAYS_REGISTRATION</th>\n",
       "      <th>...</th>\n",
       "      <th>FLAG_DOCUMENT_18</th>\n",
       "      <th>FLAG_DOCUMENT_19</th>\n",
       "      <th>FLAG_DOCUMENT_20</th>\n",
       "      <th>FLAG_DOCUMENT_21</th>\n",
       "      <th>AMT_REQ_CREDIT_BUREAU_HOUR</th>\n",
       "      <th>AMT_REQ_CREDIT_BUREAU_DAY</th>\n",
       "      <th>AMT_REQ_CREDIT_BUREAU_WEEK</th>\n",
       "      <th>AMT_REQ_CREDIT_BUREAU_MON</th>\n",
       "      <th>AMT_REQ_CREDIT_BUREAU_QRT</th>\n",
       "      <th>AMT_REQ_CREDIT_BUREAU_YEAR</th>\n",
       "    </tr>\n",
       "  </thead>\n",
       "  <tbody>\n",
       "    <tr>\n",
       "      <th>count</th>\n",
       "      <td>199882.000000</td>\n",
       "      <td>199882.000000</td>\n",
       "      <td>1.998820e+05</td>\n",
       "      <td>1.998820e+05</td>\n",
       "      <td>199872.000000</td>\n",
       "      <td>1.996970e+05</td>\n",
       "      <td>199882.000000</td>\n",
       "      <td>199882.000000</td>\n",
       "      <td>199882.000000</td>\n",
       "      <td>199882.000000</td>\n",
       "      <td>...</td>\n",
       "      <td>199882.000000</td>\n",
       "      <td>199882.000000</td>\n",
       "      <td>199882.000000</td>\n",
       "      <td>199882.000000</td>\n",
       "      <td>172899.000000</td>\n",
       "      <td>172899.000000</td>\n",
       "      <td>172899.00000</td>\n",
       "      <td>172899.000000</td>\n",
       "      <td>172899.000000</td>\n",
       "      <td>172899.000000</td>\n",
       "    </tr>\n",
       "    <tr>\n",
       "      <th>mean</th>\n",
       "      <td>0.081203</td>\n",
       "      <td>0.419447</td>\n",
       "      <td>1.686329e+05</td>\n",
       "      <td>5.997127e+05</td>\n",
       "      <td>27143.727080</td>\n",
       "      <td>5.391696e+05</td>\n",
       "      <td>0.020896</td>\n",
       "      <td>-16026.845549</td>\n",
       "      <td>63590.955214</td>\n",
       "      <td>-4985.351703</td>\n",
       "      <td>...</td>\n",
       "      <td>0.008260</td>\n",
       "      <td>0.000640</td>\n",
       "      <td>0.000470</td>\n",
       "      <td>0.000310</td>\n",
       "      <td>0.006385</td>\n",
       "      <td>0.006952</td>\n",
       "      <td>0.03454</td>\n",
       "      <td>0.268561</td>\n",
       "      <td>0.265386</td>\n",
       "      <td>1.903261</td>\n",
       "    </tr>\n",
       "    <tr>\n",
       "      <th>std</th>\n",
       "      <td>0.273147</td>\n",
       "      <td>0.726197</td>\n",
       "      <td>1.066414e+05</td>\n",
       "      <td>4.025914e+05</td>\n",
       "      <td>14585.657047</td>\n",
       "      <td>3.696706e+05</td>\n",
       "      <td>0.013859</td>\n",
       "      <td>4363.761714</td>\n",
       "      <td>141083.570901</td>\n",
       "      <td>3517.832569</td>\n",
       "      <td>...</td>\n",
       "      <td>0.090508</td>\n",
       "      <td>0.025298</td>\n",
       "      <td>0.021681</td>\n",
       "      <td>0.017609</td>\n",
       "      <td>0.083343</td>\n",
       "      <td>0.110147</td>\n",
       "      <td>0.20460</td>\n",
       "      <td>0.919726</td>\n",
       "      <td>0.875505</td>\n",
       "      <td>1.873431</td>\n",
       "    </tr>\n",
       "    <tr>\n",
       "      <th>min</th>\n",
       "      <td>0.000000</td>\n",
       "      <td>0.000000</td>\n",
       "      <td>2.565000e+04</td>\n",
       "      <td>4.500000e+04</td>\n",
       "      <td>1615.500000</td>\n",
       "      <td>4.050000e+04</td>\n",
       "      <td>0.000290</td>\n",
       "      <td>-25229.000000</td>\n",
       "      <td>-17912.000000</td>\n",
       "      <td>-24672.000000</td>\n",
       "      <td>...</td>\n",
       "      <td>0.000000</td>\n",
       "      <td>0.000000</td>\n",
       "      <td>0.000000</td>\n",
       "      <td>0.000000</td>\n",
       "      <td>0.000000</td>\n",
       "      <td>0.000000</td>\n",
       "      <td>0.00000</td>\n",
       "      <td>0.000000</td>\n",
       "      <td>0.000000</td>\n",
       "      <td>0.000000</td>\n",
       "    </tr>\n",
       "    <tr>\n",
       "      <th>25%</th>\n",
       "      <td>0.000000</td>\n",
       "      <td>0.000000</td>\n",
       "      <td>1.125000e+05</td>\n",
       "      <td>2.700000e+05</td>\n",
       "      <td>16524.000000</td>\n",
       "      <td>2.385000e+05</td>\n",
       "      <td>0.010006</td>\n",
       "      <td>-19670.000000</td>\n",
       "      <td>-2761.000000</td>\n",
       "      <td>-7468.000000</td>\n",
       "      <td>...</td>\n",
       "      <td>0.000000</td>\n",
       "      <td>0.000000</td>\n",
       "      <td>0.000000</td>\n",
       "      <td>0.000000</td>\n",
       "      <td>0.000000</td>\n",
       "      <td>0.000000</td>\n",
       "      <td>0.00000</td>\n",
       "      <td>0.000000</td>\n",
       "      <td>0.000000</td>\n",
       "      <td>0.000000</td>\n",
       "    </tr>\n",
       "    <tr>\n",
       "      <th>50%</th>\n",
       "      <td>0.000000</td>\n",
       "      <td>0.000000</td>\n",
       "      <td>1.485000e+05</td>\n",
       "      <td>5.172660e+05</td>\n",
       "      <td>24912.000000</td>\n",
       "      <td>4.500000e+05</td>\n",
       "      <td>0.018850</td>\n",
       "      <td>-15738.000000</td>\n",
       "      <td>-1215.000000</td>\n",
       "      <td>-4507.000000</td>\n",
       "      <td>...</td>\n",
       "      <td>0.000000</td>\n",
       "      <td>0.000000</td>\n",
       "      <td>0.000000</td>\n",
       "      <td>0.000000</td>\n",
       "      <td>0.000000</td>\n",
       "      <td>0.000000</td>\n",
       "      <td>0.00000</td>\n",
       "      <td>0.000000</td>\n",
       "      <td>0.000000</td>\n",
       "      <td>1.000000</td>\n",
       "    </tr>\n",
       "    <tr>\n",
       "      <th>75%</th>\n",
       "      <td>0.000000</td>\n",
       "      <td>1.000000</td>\n",
       "      <td>2.025000e+05</td>\n",
       "      <td>8.086500e+05</td>\n",
       "      <td>34654.500000</td>\n",
       "      <td>6.795000e+05</td>\n",
       "      <td>0.028663</td>\n",
       "      <td>-12396.000000</td>\n",
       "      <td>-290.000000</td>\n",
       "      <td>-2016.000000</td>\n",
       "      <td>...</td>\n",
       "      <td>0.000000</td>\n",
       "      <td>0.000000</td>\n",
       "      <td>0.000000</td>\n",
       "      <td>0.000000</td>\n",
       "      <td>0.000000</td>\n",
       "      <td>0.000000</td>\n",
       "      <td>0.00000</td>\n",
       "      <td>0.000000</td>\n",
       "      <td>0.000000</td>\n",
       "      <td>3.000000</td>\n",
       "    </tr>\n",
       "    <tr>\n",
       "      <th>max</th>\n",
       "      <td>1.000000</td>\n",
       "      <td>19.000000</td>\n",
       "      <td>1.350000e+07</td>\n",
       "      <td>4.050000e+06</td>\n",
       "      <td>258025.500000</td>\n",
       "      <td>4.050000e+06</td>\n",
       "      <td>0.072508</td>\n",
       "      <td>-7673.000000</td>\n",
       "      <td>365243.000000</td>\n",
       "      <td>0.000000</td>\n",
       "      <td>...</td>\n",
       "      <td>1.000000</td>\n",
       "      <td>1.000000</td>\n",
       "      <td>1.000000</td>\n",
       "      <td>1.000000</td>\n",
       "      <td>3.000000</td>\n",
       "      <td>9.000000</td>\n",
       "      <td>8.00000</td>\n",
       "      <td>27.000000</td>\n",
       "      <td>261.000000</td>\n",
       "      <td>23.000000</td>\n",
       "    </tr>\n",
       "  </tbody>\n",
       "</table>\n",
       "<p>8 rows × 105 columns</p>\n",
       "</div>"
      ],
      "text/plain": [
       "              TARGET   CNT_CHILDREN  AMT_INCOME_TOTAL    AMT_CREDIT  \\\n",
       "count  199882.000000  199882.000000      1.998820e+05  1.998820e+05   \n",
       "mean        0.081203       0.419447      1.686329e+05  5.997127e+05   \n",
       "std         0.273147       0.726197      1.066414e+05  4.025914e+05   \n",
       "min         0.000000       0.000000      2.565000e+04  4.500000e+04   \n",
       "25%         0.000000       0.000000      1.125000e+05  2.700000e+05   \n",
       "50%         0.000000       0.000000      1.485000e+05  5.172660e+05   \n",
       "75%         0.000000       1.000000      2.025000e+05  8.086500e+05   \n",
       "max         1.000000      19.000000      1.350000e+07  4.050000e+06   \n",
       "\n",
       "         AMT_ANNUITY  AMT_GOODS_PRICE  REGION_POPULATION_RELATIVE  \\\n",
       "count  199872.000000     1.996970e+05               199882.000000   \n",
       "mean    27143.727080     5.391696e+05                    0.020896   \n",
       "std     14585.657047     3.696706e+05                    0.013859   \n",
       "min      1615.500000     4.050000e+04                    0.000290   \n",
       "25%     16524.000000     2.385000e+05                    0.010006   \n",
       "50%     24912.000000     4.500000e+05                    0.018850   \n",
       "75%     34654.500000     6.795000e+05                    0.028663   \n",
       "max    258025.500000     4.050000e+06                    0.072508   \n",
       "\n",
       "          DAYS_BIRTH  DAYS_EMPLOYED  DAYS_REGISTRATION  ...  FLAG_DOCUMENT_18  \\\n",
       "count  199882.000000  199882.000000      199882.000000  ...     199882.000000   \n",
       "mean   -16026.845549   63590.955214       -4985.351703  ...          0.008260   \n",
       "std      4363.761714  141083.570901        3517.832569  ...          0.090508   \n",
       "min    -25229.000000  -17912.000000      -24672.000000  ...          0.000000   \n",
       "25%    -19670.000000   -2761.000000       -7468.000000  ...          0.000000   \n",
       "50%    -15738.000000   -1215.000000       -4507.000000  ...          0.000000   \n",
       "75%    -12396.000000    -290.000000       -2016.000000  ...          0.000000   \n",
       "max     -7673.000000  365243.000000           0.000000  ...          1.000000   \n",
       "\n",
       "       FLAG_DOCUMENT_19  FLAG_DOCUMENT_20  FLAG_DOCUMENT_21  \\\n",
       "count     199882.000000     199882.000000     199882.000000   \n",
       "mean           0.000640          0.000470          0.000310   \n",
       "std            0.025298          0.021681          0.017609   \n",
       "min            0.000000          0.000000          0.000000   \n",
       "25%            0.000000          0.000000          0.000000   \n",
       "50%            0.000000          0.000000          0.000000   \n",
       "75%            0.000000          0.000000          0.000000   \n",
       "max            1.000000          1.000000          1.000000   \n",
       "\n",
       "       AMT_REQ_CREDIT_BUREAU_HOUR  AMT_REQ_CREDIT_BUREAU_DAY  \\\n",
       "count               172899.000000              172899.000000   \n",
       "mean                     0.006385                   0.006952   \n",
       "std                      0.083343                   0.110147   \n",
       "min                      0.000000                   0.000000   \n",
       "25%                      0.000000                   0.000000   \n",
       "50%                      0.000000                   0.000000   \n",
       "75%                      0.000000                   0.000000   \n",
       "max                      3.000000                   9.000000   \n",
       "\n",
       "       AMT_REQ_CREDIT_BUREAU_WEEK  AMT_REQ_CREDIT_BUREAU_MON  \\\n",
       "count                172899.00000              172899.000000   \n",
       "mean                      0.03454                   0.268561   \n",
       "std                       0.20460                   0.919726   \n",
       "min                       0.00000                   0.000000   \n",
       "25%                       0.00000                   0.000000   \n",
       "50%                       0.00000                   0.000000   \n",
       "75%                       0.00000                   0.000000   \n",
       "max                       8.00000                  27.000000   \n",
       "\n",
       "       AMT_REQ_CREDIT_BUREAU_QRT  AMT_REQ_CREDIT_BUREAU_YEAR  \n",
       "count              172899.000000               172899.000000  \n",
       "mean                    0.265386                    1.903261  \n",
       "std                     0.875505                    1.873431  \n",
       "min                     0.000000                    0.000000  \n",
       "25%                     0.000000                    0.000000  \n",
       "50%                     0.000000                    1.000000  \n",
       "75%                     0.000000                    3.000000  \n",
       "max                   261.000000                   23.000000  \n",
       "\n",
       "[8 rows x 105 columns]"
      ]
     },
     "execution_count": 5,
     "metadata": {},
     "output_type": "execute_result"
    }
   ],
   "source": [
    "#description of train data\n",
    "train.describe()"
   ]
  },
  {
   "cell_type": "code",
   "execution_count": 6,
   "metadata": {},
   "outputs": [
    {
     "data": {
      "text/plain": [
       "<AxesSubplot:xlabel='TARGET', ylabel='count'>"
      ]
     },
     "execution_count": 6,
     "metadata": {},
     "output_type": "execute_result"
    },
    {
     "data": {
      "image/png": "[encoded data removed]",
      "text/plain": [
       "<Figure size 432x288 with 1 Axes>"
      ]
     },
     "metadata": {
      "needs_background": "light"
     },
     "output_type": "display_data"
    }
   ],
   "source": [
    "sns.countplot(train.TARGET)"
   ]
  },
  {
   "cell_type": "code",
   "execution_count": 7,
   "metadata": {},
   "outputs": [
    {
     "data": {
      "text/plain": [
       "0    183651\n",
       "1     16231\n",
       "Name: TARGET, dtype: int64"
      ]
     },
     "execution_count": 7,
     "metadata": {},
     "output_type": "execute_result"
    }
   ],
   "source": [
    "#counting the variables in target column in train data set\n",
    "train['TARGET'].value_counts()"
   ]
  },
  {
   "cell_type": "code",
   "execution_count": 8,
   "metadata": {},
   "outputs": [
    {
     "name": "stdout",
     "output_type": "stream",
     "text": [
      "The train dataset dimensions are as follows: (199882, 122)\n",
      "The test dataset dimensions are as follows: (107629, 121)\n"
     ]
    }
   ],
   "source": [
    "print(\"The train dataset dimensions are as follows: {}\".format(train.shape))\n",
    "print(\"The test dataset dimensions are as follows: {}\".format(test.shape))"
   ]
  },
  {
   "cell_type": "code",
   "execution_count": 9,
   "metadata": {},
   "outputs": [
    {
     "data": {
      "text/html": [
       "<div>\n",
       "<style scoped>\n",
       "    .dataframe tbody tr th:only-of-type {\n",
       "        vertical-align: middle;\n",
       "    }\n",
       "\n",
       "    .dataframe tbody tr th {\n",
       "        vertical-align: top;\n",
       "    }\n",
       "\n",
       "    .dataframe thead th {\n",
       "        text-align: right;\n",
       "    }\n",
       "</style>\n",
       "<table border=\"1\" class=\"dataframe\">\n",
       "  <thead>\n",
       "    <tr style=\"text-align: right;\">\n",
       "      <th></th>\n",
       "      <th>SK_ID_CURR</th>\n",
       "      <th>NAME_CONTRACT_TYPE</th>\n",
       "      <th>CODE_GENDER</th>\n",
       "      <th>FLAG_OWN_CAR</th>\n",
       "      <th>FLAG_OWN_REALTY</th>\n",
       "      <th>CNT_CHILDREN</th>\n",
       "      <th>AMT_INCOME_TOTAL</th>\n",
       "      <th>AMT_CREDIT</th>\n",
       "      <th>AMT_ANNUITY</th>\n",
       "      <th>AMT_GOODS_PRICE</th>\n",
       "      <th>...</th>\n",
       "      <th>FLAG_DOCUMENT_18</th>\n",
       "      <th>FLAG_DOCUMENT_19</th>\n",
       "      <th>FLAG_DOCUMENT_20</th>\n",
       "      <th>FLAG_DOCUMENT_21</th>\n",
       "      <th>AMT_REQ_CREDIT_BUREAU_HOUR</th>\n",
       "      <th>AMT_REQ_CREDIT_BUREAU_DAY</th>\n",
       "      <th>AMT_REQ_CREDIT_BUREAU_WEEK</th>\n",
       "      <th>AMT_REQ_CREDIT_BUREAU_MON</th>\n",
       "      <th>AMT_REQ_CREDIT_BUREAU_QRT</th>\n",
       "      <th>AMT_REQ_CREDIT_BUREAU_YEAR</th>\n",
       "    </tr>\n",
       "  </thead>\n",
       "  <tbody>\n",
       "    <tr>\n",
       "      <th>0</th>\n",
       "      <td>7auxod</td>\n",
       "      <td>Cash loans</td>\n",
       "      <td>F</td>\n",
       "      <td>N</td>\n",
       "      <td>Y</td>\n",
       "      <td>0</td>\n",
       "      <td>225000.0</td>\n",
       "      <td>728460.0</td>\n",
       "      <td>44694.0</td>\n",
       "      <td>675000.0</td>\n",
       "      <td>...</td>\n",
       "      <td>0</td>\n",
       "      <td>0</td>\n",
       "      <td>0</td>\n",
       "      <td>0</td>\n",
       "      <td>0.0</td>\n",
       "      <td>0.0</td>\n",
       "      <td>0.0</td>\n",
       "      <td>0.0</td>\n",
       "      <td>0.0</td>\n",
       "      <td>3.0</td>\n",
       "    </tr>\n",
       "    <tr>\n",
       "      <th>1</th>\n",
       "      <td>xur7ur</td>\n",
       "      <td>Cash loans</td>\n",
       "      <td>F</td>\n",
       "      <td>N</td>\n",
       "      <td>Y</td>\n",
       "      <td>0</td>\n",
       "      <td>171000.0</td>\n",
       "      <td>630000.0</td>\n",
       "      <td>22756.5</td>\n",
       "      <td>630000.0</td>\n",
       "      <td>...</td>\n",
       "      <td>0</td>\n",
       "      <td>0</td>\n",
       "      <td>0</td>\n",
       "      <td>0</td>\n",
       "      <td>0.0</td>\n",
       "      <td>0.0</td>\n",
       "      <td>0.0</td>\n",
       "      <td>1.0</td>\n",
       "      <td>2.0</td>\n",
       "      <td>6.0</td>\n",
       "    </tr>\n",
       "    <tr>\n",
       "      <th>2</th>\n",
       "      <td>eau6rx</td>\n",
       "      <td>Cash loans</td>\n",
       "      <td>F</td>\n",
       "      <td>N</td>\n",
       "      <td>N</td>\n",
       "      <td>0</td>\n",
       "      <td>117000.0</td>\n",
       "      <td>724981.5</td>\n",
       "      <td>27742.5</td>\n",
       "      <td>648000.0</td>\n",
       "      <td>...</td>\n",
       "      <td>1</td>\n",
       "      <td>0</td>\n",
       "      <td>0</td>\n",
       "      <td>0</td>\n",
       "      <td>0.0</td>\n",
       "      <td>0.0</td>\n",
       "      <td>0.0</td>\n",
       "      <td>0.0</td>\n",
       "      <td>0.0</td>\n",
       "      <td>0.0</td>\n",
       "    </tr>\n",
       "    <tr>\n",
       "      <th>3</th>\n",
       "      <td>obdr67</td>\n",
       "      <td>Revolving loans</td>\n",
       "      <td>F</td>\n",
       "      <td>N</td>\n",
       "      <td>N</td>\n",
       "      <td>2</td>\n",
       "      <td>135000.0</td>\n",
       "      <td>180000.0</td>\n",
       "      <td>9000.0</td>\n",
       "      <td>180000.0</td>\n",
       "      <td>...</td>\n",
       "      <td>0</td>\n",
       "      <td>0</td>\n",
       "      <td>0</td>\n",
       "      <td>0</td>\n",
       "      <td>0.0</td>\n",
       "      <td>0.0</td>\n",
       "      <td>0.0</td>\n",
       "      <td>0.0</td>\n",
       "      <td>0.0</td>\n",
       "      <td>1.0</td>\n",
       "    </tr>\n",
       "    <tr>\n",
       "      <th>4</th>\n",
       "      <td>7xbu7d</td>\n",
       "      <td>Cash loans</td>\n",
       "      <td>F</td>\n",
       "      <td>N</td>\n",
       "      <td>N</td>\n",
       "      <td>0</td>\n",
       "      <td>225000.0</td>\n",
       "      <td>248760.0</td>\n",
       "      <td>29650.5</td>\n",
       "      <td>225000.0</td>\n",
       "      <td>...</td>\n",
       "      <td>0</td>\n",
       "      <td>0</td>\n",
       "      <td>0</td>\n",
       "      <td>0</td>\n",
       "      <td>0.0</td>\n",
       "      <td>0.0</td>\n",
       "      <td>0.0</td>\n",
       "      <td>0.0</td>\n",
       "      <td>0.0</td>\n",
       "      <td>0.0</td>\n",
       "    </tr>\n",
       "  </tbody>\n",
       "</table>\n",
       "<p>5 rows × 121 columns</p>\n",
       "</div>"
      ],
      "text/plain": [
       "  SK_ID_CURR NAME_CONTRACT_TYPE CODE_GENDER FLAG_OWN_CAR FLAG_OWN_REALTY  \\\n",
       "0     7auxod         Cash loans           F            N               Y   \n",
       "1     xur7ur         Cash loans           F            N               Y   \n",
       "2     eau6rx         Cash loans           F            N               N   \n",
       "3     obdr67    Revolving loans           F            N               N   \n",
       "4     7xbu7d         Cash loans           F            N               N   \n",
       "\n",
       "   CNT_CHILDREN  AMT_INCOME_TOTAL  AMT_CREDIT  AMT_ANNUITY  AMT_GOODS_PRICE  \\\n",
       "0             0          225000.0    728460.0      44694.0         675000.0   \n",
       "1             0          171000.0    630000.0      22756.5         630000.0   \n",
       "2             0          117000.0    724981.5      27742.5         648000.0   \n",
       "3             2          135000.0    180000.0       9000.0         180000.0   \n",
       "4             0          225000.0    248760.0      29650.5         225000.0   \n",
       "\n",
       "   ... FLAG_DOCUMENT_18 FLAG_DOCUMENT_19 FLAG_DOCUMENT_20 FLAG_DOCUMENT_21  \\\n",
       "0  ...                0                0                0                0   \n",
       "1  ...                0                0                0                0   \n",
       "2  ...                1                0                0                0   \n",
       "3  ...                0                0                0                0   \n",
       "4  ...                0                0                0                0   \n",
       "\n",
       "  AMT_REQ_CREDIT_BUREAU_HOUR  AMT_REQ_CREDIT_BUREAU_DAY  \\\n",
       "0                        0.0                        0.0   \n",
       "1                        0.0                        0.0   \n",
       "2                        0.0                        0.0   \n",
       "3                        0.0                        0.0   \n",
       "4                        0.0                        0.0   \n",
       "\n",
       "   AMT_REQ_CREDIT_BUREAU_WEEK  AMT_REQ_CREDIT_BUREAU_MON  \\\n",
       "0                         0.0                        0.0   \n",
       "1                         0.0                        1.0   \n",
       "2                         0.0                        0.0   \n",
       "3                         0.0                        0.0   \n",
       "4                         0.0                        0.0   \n",
       "\n",
       "   AMT_REQ_CREDIT_BUREAU_QRT  AMT_REQ_CREDIT_BUREAU_YEAR  \n",
       "0                        0.0                         3.0  \n",
       "1                        2.0                         6.0  \n",
       "2                        0.0                         0.0  \n",
       "3                        0.0                         1.0  \n",
       "4                        0.0                         0.0  \n",
       "\n",
       "[5 rows x 121 columns]"
      ]
     },
     "execution_count": 9,
     "metadata": {},
     "output_type": "execute_result"
    }
   ],
   "source": [
    "#printing the test data \n",
    "test.head()"
   ]
  },
  {
   "cell_type": "code",
   "execution_count": 10,
   "metadata": {},
   "outputs": [
    {
     "data": {
      "text/html": [
       "<div>\n",
       "<style scoped>\n",
       "    .dataframe tbody tr th:only-of-type {\n",
       "        vertical-align: middle;\n",
       "    }\n",
       "\n",
       "    .dataframe tbody tr th {\n",
       "        vertical-align: top;\n",
       "    }\n",
       "\n",
       "    .dataframe thead th {\n",
       "        text-align: right;\n",
       "    }\n",
       "</style>\n",
       "<table border=\"1\" class=\"dataframe\">\n",
       "  <thead>\n",
       "    <tr style=\"text-align: right;\">\n",
       "      <th></th>\n",
       "      <th>SK_ID_CURR</th>\n",
       "      <th>TARGET</th>\n",
       "      <th>NAME_CONTRACT_TYPE</th>\n",
       "      <th>CODE_GENDER</th>\n",
       "      <th>FLAG_OWN_CAR</th>\n",
       "      <th>FLAG_OWN_REALTY</th>\n",
       "      <th>CNT_CHILDREN</th>\n",
       "      <th>AMT_INCOME_TOTAL</th>\n",
       "      <th>AMT_CREDIT</th>\n",
       "      <th>AMT_ANNUITY</th>\n",
       "      <th>...</th>\n",
       "      <th>FLAG_DOCUMENT_18</th>\n",
       "      <th>FLAG_DOCUMENT_19</th>\n",
       "      <th>FLAG_DOCUMENT_20</th>\n",
       "      <th>FLAG_DOCUMENT_21</th>\n",
       "      <th>AMT_REQ_CREDIT_BUREAU_HOUR</th>\n",
       "      <th>AMT_REQ_CREDIT_BUREAU_DAY</th>\n",
       "      <th>AMT_REQ_CREDIT_BUREAU_WEEK</th>\n",
       "      <th>AMT_REQ_CREDIT_BUREAU_MON</th>\n",
       "      <th>AMT_REQ_CREDIT_BUREAU_QRT</th>\n",
       "      <th>AMT_REQ_CREDIT_BUREAU_YEAR</th>\n",
       "    </tr>\n",
       "  </thead>\n",
       "  <tbody>\n",
       "    <tr>\n",
       "      <th>0</th>\n",
       "      <td>aou6ud</td>\n",
       "      <td>0</td>\n",
       "      <td>Cash loans</td>\n",
       "      <td>M</td>\n",
       "      <td>N</td>\n",
       "      <td>Y</td>\n",
       "      <td>0</td>\n",
       "      <td>360000.0</td>\n",
       "      <td>1125000.0</td>\n",
       "      <td>33025.5</td>\n",
       "      <td>...</td>\n",
       "      <td>0</td>\n",
       "      <td>0</td>\n",
       "      <td>0</td>\n",
       "      <td>0</td>\n",
       "      <td>NaN</td>\n",
       "      <td>NaN</td>\n",
       "      <td>NaN</td>\n",
       "      <td>NaN</td>\n",
       "      <td>NaN</td>\n",
       "      <td>NaN</td>\n",
       "    </tr>\n",
       "    <tr>\n",
       "      <th>1</th>\n",
       "      <td>xxbaad</td>\n",
       "      <td>0</td>\n",
       "      <td>Cash loans</td>\n",
       "      <td>F</td>\n",
       "      <td>N</td>\n",
       "      <td>Y</td>\n",
       "      <td>0</td>\n",
       "      <td>112500.0</td>\n",
       "      <td>251280.0</td>\n",
       "      <td>13630.5</td>\n",
       "      <td>...</td>\n",
       "      <td>0</td>\n",
       "      <td>0</td>\n",
       "      <td>0</td>\n",
       "      <td>0</td>\n",
       "      <td>0.0</td>\n",
       "      <td>0.0</td>\n",
       "      <td>0.0</td>\n",
       "      <td>0.0</td>\n",
       "      <td>0.0</td>\n",
       "      <td>6.0</td>\n",
       "    </tr>\n",
       "    <tr>\n",
       "      <th>2</th>\n",
       "      <td>xdrbad</td>\n",
       "      <td>0</td>\n",
       "      <td>Cash loans</td>\n",
       "      <td>F</td>\n",
       "      <td>N</td>\n",
       "      <td>Y</td>\n",
       "      <td>0</td>\n",
       "      <td>225000.0</td>\n",
       "      <td>544491.0</td>\n",
       "      <td>15916.5</td>\n",
       "      <td>...</td>\n",
       "      <td>0</td>\n",
       "      <td>0</td>\n",
       "      <td>0</td>\n",
       "      <td>0</td>\n",
       "      <td>0.0</td>\n",
       "      <td>0.0</td>\n",
       "      <td>1.0</td>\n",
       "      <td>0.0</td>\n",
       "      <td>0.0</td>\n",
       "      <td>2.0</td>\n",
       "    </tr>\n",
       "    <tr>\n",
       "      <th>3</th>\n",
       "      <td>rbdd7d</td>\n",
       "      <td>0</td>\n",
       "      <td>Cash loans</td>\n",
       "      <td>F</td>\n",
       "      <td>N</td>\n",
       "      <td>N</td>\n",
       "      <td>2</td>\n",
       "      <td>211500.0</td>\n",
       "      <td>900000.0</td>\n",
       "      <td>26316.0</td>\n",
       "      <td>...</td>\n",
       "      <td>0</td>\n",
       "      <td>0</td>\n",
       "      <td>0</td>\n",
       "      <td>0</td>\n",
       "      <td>0.0</td>\n",
       "      <td>0.0</td>\n",
       "      <td>0.0</td>\n",
       "      <td>0.0</td>\n",
       "      <td>0.0</td>\n",
       "      <td>0.0</td>\n",
       "    </tr>\n",
       "    <tr>\n",
       "      <th>4</th>\n",
       "      <td>rexddr</td>\n",
       "      <td>1</td>\n",
       "      <td>Cash loans</td>\n",
       "      <td>F</td>\n",
       "      <td>N</td>\n",
       "      <td>Y</td>\n",
       "      <td>0</td>\n",
       "      <td>90000.0</td>\n",
       "      <td>113760.0</td>\n",
       "      <td>8406.0</td>\n",
       "      <td>...</td>\n",
       "      <td>0</td>\n",
       "      <td>0</td>\n",
       "      <td>0</td>\n",
       "      <td>0</td>\n",
       "      <td>0.0</td>\n",
       "      <td>0.0</td>\n",
       "      <td>0.0</td>\n",
       "      <td>0.0</td>\n",
       "      <td>1.0</td>\n",
       "      <td>2.0</td>\n",
       "    </tr>\n",
       "  </tbody>\n",
       "</table>\n",
       "<p>5 rows × 122 columns</p>\n",
       "</div>"
      ],
      "text/plain": [
       "  SK_ID_CURR  TARGET NAME_CONTRACT_TYPE CODE_GENDER FLAG_OWN_CAR  \\\n",
       "0     aou6ud       0         Cash loans           M            N   \n",
       "1     xxbaad       0         Cash loans           F            N   \n",
       "2     xdrbad       0         Cash loans           F            N   \n",
       "3     rbdd7d       0         Cash loans           F            N   \n",
       "4     rexddr       1         Cash loans           F            N   \n",
       "\n",
       "  FLAG_OWN_REALTY  CNT_CHILDREN  AMT_INCOME_TOTAL  AMT_CREDIT  AMT_ANNUITY  \\\n",
       "0               Y             0          360000.0   1125000.0      33025.5   \n",
       "1               Y             0          112500.0    251280.0      13630.5   \n",
       "2               Y             0          225000.0    544491.0      15916.5   \n",
       "3               N             2          211500.0    900000.0      26316.0   \n",
       "4               Y             0           90000.0    113760.0       8406.0   \n",
       "\n",
       "   ...  FLAG_DOCUMENT_18 FLAG_DOCUMENT_19 FLAG_DOCUMENT_20 FLAG_DOCUMENT_21  \\\n",
       "0  ...                 0                0                0                0   \n",
       "1  ...                 0                0                0                0   \n",
       "2  ...                 0                0                0                0   \n",
       "3  ...                 0                0                0                0   \n",
       "4  ...                 0                0                0                0   \n",
       "\n",
       "  AMT_REQ_CREDIT_BUREAU_HOUR AMT_REQ_CREDIT_BUREAU_DAY  \\\n",
       "0                        NaN                       NaN   \n",
       "1                        0.0                       0.0   \n",
       "2                        0.0                       0.0   \n",
       "3                        0.0                       0.0   \n",
       "4                        0.0                       0.0   \n",
       "\n",
       "   AMT_REQ_CREDIT_BUREAU_WEEK  AMT_REQ_CREDIT_BUREAU_MON  \\\n",
       "0                         NaN                        NaN   \n",
       "1                         0.0                        0.0   \n",
       "2                         1.0                        0.0   \n",
       "3                         0.0                        0.0   \n",
       "4                         0.0                        0.0   \n",
       "\n",
       "   AMT_REQ_CREDIT_BUREAU_QRT  AMT_REQ_CREDIT_BUREAU_YEAR  \n",
       "0                        NaN                         NaN  \n",
       "1                        0.0                         6.0  \n",
       "2                        0.0                         2.0  \n",
       "3                        0.0                         0.0  \n",
       "4                        1.0                         2.0  \n",
       "\n",
       "[5 rows x 122 columns]"
      ]
     },
     "execution_count": 10,
     "metadata": {},
     "output_type": "execute_result"
    }
   ],
   "source": [
    "#printing the train data\n",
    "train.head()"
   ]
  },
  {
   "cell_type": "code",
   "execution_count": 11,
   "metadata": {},
   "outputs": [],
   "source": [
    "def missing_columns(dataframe):\n",
    "    \"\"\"\n",
    "    Returns a dataframe that contains missing column names and \n",
    "    percent of missing values in relation to the whole dataframe.\n",
    "    \n",
    "    dataframe: dataframe that gives the column names and their % of missing values\n",
    "    \"\"\"\n",
    "    \n",
    "    # find the missing values\n",
    "    missing_values = dataframe.isnull().sum().sort_values(ascending=False)\n",
    "    \n",
    "    # percentage of missing values in relation to the overall size\n",
    "    missing_values_pct = 100 * missing_values/len(dataframe)\n",
    "    \n",
    "    # create a new dataframe which is a concatinated version\n",
    "    concat_values = pd.concat([missing_values, missing_values/len(dataframe),missing_values_pct.round(1)],axis=1)\n",
    "\n",
    "    # give new col names\n",
    "    concat_values.columns = ['Missing Count','Missing Count Ratio','Missing Count %']\n",
    "    \n",
    "    # return the required values\n",
    "    return concat_values[concat_values.iloc[:,1]!=0]"
   ]
  },
  {
   "cell_type": "code",
   "execution_count": 12,
   "metadata": {},
   "outputs": [
    {
     "data": {
      "text/html": [
       "<div>\n",
       "<style scoped>\n",
       "    .dataframe tbody tr th:only-of-type {\n",
       "        vertical-align: middle;\n",
       "    }\n",
       "\n",
       "    .dataframe tbody tr th {\n",
       "        vertical-align: top;\n",
       "    }\n",
       "\n",
       "    .dataframe thead th {\n",
       "        text-align: right;\n",
       "    }\n",
       "</style>\n",
       "<table border=\"1\" class=\"dataframe\">\n",
       "  <thead>\n",
       "    <tr style=\"text-align: right;\">\n",
       "      <th></th>\n",
       "      <th>Missing Count</th>\n",
       "      <th>Missing Count Ratio</th>\n",
       "      <th>Missing Count %</th>\n",
       "    </tr>\n",
       "  </thead>\n",
       "  <tbody>\n",
       "    <tr>\n",
       "      <th>COMMONAREA_MEDI</th>\n",
       "      <td>139817</td>\n",
       "      <td>0.699498</td>\n",
       "      <td>69.9</td>\n",
       "    </tr>\n",
       "    <tr>\n",
       "      <th>COMMONAREA_AVG</th>\n",
       "      <td>139817</td>\n",
       "      <td>0.699498</td>\n",
       "      <td>69.9</td>\n",
       "    </tr>\n",
       "    <tr>\n",
       "      <th>COMMONAREA_MODE</th>\n",
       "      <td>139817</td>\n",
       "      <td>0.699498</td>\n",
       "      <td>69.9</td>\n",
       "    </tr>\n",
       "    <tr>\n",
       "      <th>NONLIVINGAPARTMENTS_MODE</th>\n",
       "      <td>138850</td>\n",
       "      <td>0.694660</td>\n",
       "      <td>69.5</td>\n",
       "    </tr>\n",
       "    <tr>\n",
       "      <th>NONLIVINGAPARTMENTS_MEDI</th>\n",
       "      <td>138850</td>\n",
       "      <td>0.694660</td>\n",
       "      <td>69.5</td>\n",
       "    </tr>\n",
       "    <tr>\n",
       "      <th>...</th>\n",
       "      <td>...</td>\n",
       "      <td>...</td>\n",
       "      <td>...</td>\n",
       "    </tr>\n",
       "    <tr>\n",
       "      <th>DEF_30_CNT_SOCIAL_CIRCLE</th>\n",
       "      <td>681</td>\n",
       "      <td>0.003407</td>\n",
       "      <td>0.3</td>\n",
       "    </tr>\n",
       "    <tr>\n",
       "      <th>EXT_SOURCE_2</th>\n",
       "      <td>426</td>\n",
       "      <td>0.002131</td>\n",
       "      <td>0.2</td>\n",
       "    </tr>\n",
       "    <tr>\n",
       "      <th>AMT_GOODS_PRICE</th>\n",
       "      <td>185</td>\n",
       "      <td>0.000926</td>\n",
       "      <td>0.1</td>\n",
       "    </tr>\n",
       "    <tr>\n",
       "      <th>AMT_ANNUITY</th>\n",
       "      <td>10</td>\n",
       "      <td>0.000050</td>\n",
       "      <td>0.0</td>\n",
       "    </tr>\n",
       "    <tr>\n",
       "      <th>CNT_FAM_MEMBERS</th>\n",
       "      <td>1</td>\n",
       "      <td>0.000005</td>\n",
       "      <td>0.0</td>\n",
       "    </tr>\n",
       "  </tbody>\n",
       "</table>\n",
       "<p>66 rows × 3 columns</p>\n",
       "</div>"
      ],
      "text/plain": [
       "                          Missing Count  Missing Count Ratio  Missing Count %\n",
       "COMMONAREA_MEDI                  139817             0.699498             69.9\n",
       "COMMONAREA_AVG                   139817             0.699498             69.9\n",
       "COMMONAREA_MODE                  139817             0.699498             69.9\n",
       "NONLIVINGAPARTMENTS_MODE         138850             0.694660             69.5\n",
       "NONLIVINGAPARTMENTS_MEDI         138850             0.694660             69.5\n",
       "...                                 ...                  ...              ...\n",
       "DEF_30_CNT_SOCIAL_CIRCLE            681             0.003407              0.3\n",
       "EXT_SOURCE_2                        426             0.002131              0.2\n",
       "AMT_GOODS_PRICE                     185             0.000926              0.1\n",
       "AMT_ANNUITY                          10             0.000050              0.0\n",
       "CNT_FAM_MEMBERS                       1             0.000005              0.0\n",
       "\n",
       "[66 rows x 3 columns]"
      ]
     },
     "execution_count": 12,
     "metadata": {},
     "output_type": "execute_result"
    }
   ],
   "source": [
    "#getting a dataframe that contain missing column names, %missing values from train data \n",
    "missing_columns(train)"
   ]
  },
  {
   "cell_type": "code",
   "execution_count": 13,
   "metadata": {},
   "outputs": [
    {
     "data": {
      "text/html": [
       "<div>\n",
       "<style scoped>\n",
       "    .dataframe tbody tr th:only-of-type {\n",
       "        vertical-align: middle;\n",
       "    }\n",
       "\n",
       "    .dataframe tbody tr th {\n",
       "        vertical-align: top;\n",
       "    }\n",
       "\n",
       "    .dataframe thead th {\n",
       "        text-align: right;\n",
       "    }\n",
       "</style>\n",
       "<table border=\"1\" class=\"dataframe\">\n",
       "  <thead>\n",
       "    <tr style=\"text-align: right;\">\n",
       "      <th></th>\n",
       "      <th>Missing Count</th>\n",
       "      <th>Missing Count Ratio</th>\n",
       "      <th>Missing Count %</th>\n",
       "    </tr>\n",
       "  </thead>\n",
       "  <tbody>\n",
       "    <tr>\n",
       "      <th>COMMONAREA_MEDI</th>\n",
       "      <td>75048</td>\n",
       "      <td>0.697284</td>\n",
       "      <td>69.7</td>\n",
       "    </tr>\n",
       "    <tr>\n",
       "      <th>COMMONAREA_AVG</th>\n",
       "      <td>75048</td>\n",
       "      <td>0.697284</td>\n",
       "      <td>69.7</td>\n",
       "    </tr>\n",
       "    <tr>\n",
       "      <th>COMMONAREA_MODE</th>\n",
       "      <td>75048</td>\n",
       "      <td>0.697284</td>\n",
       "      <td>69.7</td>\n",
       "    </tr>\n",
       "    <tr>\n",
       "      <th>NONLIVINGAPARTMENTS_MODE</th>\n",
       "      <td>74664</td>\n",
       "      <td>0.693716</td>\n",
       "      <td>69.4</td>\n",
       "    </tr>\n",
       "    <tr>\n",
       "      <th>NONLIVINGAPARTMENTS_MEDI</th>\n",
       "      <td>74664</td>\n",
       "      <td>0.693716</td>\n",
       "      <td>69.4</td>\n",
       "    </tr>\n",
       "    <tr>\n",
       "      <th>...</th>\n",
       "      <td>...</td>\n",
       "      <td>...</td>\n",
       "      <td>...</td>\n",
       "    </tr>\n",
       "    <tr>\n",
       "      <th>EXT_SOURCE_2</th>\n",
       "      <td>234</td>\n",
       "      <td>0.002174</td>\n",
       "      <td>0.2</td>\n",
       "    </tr>\n",
       "    <tr>\n",
       "      <th>AMT_GOODS_PRICE</th>\n",
       "      <td>93</td>\n",
       "      <td>0.000864</td>\n",
       "      <td>0.1</td>\n",
       "    </tr>\n",
       "    <tr>\n",
       "      <th>AMT_ANNUITY</th>\n",
       "      <td>2</td>\n",
       "      <td>0.000019</td>\n",
       "      <td>0.0</td>\n",
       "    </tr>\n",
       "    <tr>\n",
       "      <th>CNT_FAM_MEMBERS</th>\n",
       "      <td>1</td>\n",
       "      <td>0.000009</td>\n",
       "      <td>0.0</td>\n",
       "    </tr>\n",
       "    <tr>\n",
       "      <th>DAYS_LAST_PHONE_CHANGE</th>\n",
       "      <td>1</td>\n",
       "      <td>0.000009</td>\n",
       "      <td>0.0</td>\n",
       "    </tr>\n",
       "  </tbody>\n",
       "</table>\n",
       "<p>67 rows × 3 columns</p>\n",
       "</div>"
      ],
      "text/plain": [
       "                          Missing Count  Missing Count Ratio  Missing Count %\n",
       "COMMONAREA_MEDI                   75048             0.697284             69.7\n",
       "COMMONAREA_AVG                    75048             0.697284             69.7\n",
       "COMMONAREA_MODE                   75048             0.697284             69.7\n",
       "NONLIVINGAPARTMENTS_MODE          74664             0.693716             69.4\n",
       "NONLIVINGAPARTMENTS_MEDI          74664             0.693716             69.4\n",
       "...                                 ...                  ...              ...\n",
       "EXT_SOURCE_2                        234             0.002174              0.2\n",
       "AMT_GOODS_PRICE                      93             0.000864              0.1\n",
       "AMT_ANNUITY                           2             0.000019              0.0\n",
       "CNT_FAM_MEMBERS                       1             0.000009              0.0\n",
       "DAYS_LAST_PHONE_CHANGE                1             0.000009              0.0\n",
       "\n",
       "[67 rows x 3 columns]"
      ]
     },
     "execution_count": 13,
     "metadata": {},
     "output_type": "execute_result"
    }
   ],
   "source": [
    "#getting a dataframe that contain missing column names, %missing values from test data\n",
    "missing_columns(test)"
   ]
  },
  {
   "cell_type": "code",
   "execution_count": 14,
   "metadata": {},
   "outputs": [
    {
     "name": "stdout",
     "output_type": "stream",
     "text": [
      "Train dataset: \n",
      "float64    65\n",
      "int64      40\n",
      "object     17\n",
      "dtype: int64\n",
      "\n",
      "Test dataset: \n",
      "float64    65\n",
      "int64      39\n",
      "object     17\n",
      "dtype: int64\n"
     ]
    }
   ],
   "source": [
    "print(\"Train dataset: \\n{}\".format(train.dtypes.value_counts()))\n",
    "print()\n",
    "print(\"Test dataset: \\n{}\".format(test.dtypes.value_counts())) "
   ]
  },
  {
   "cell_type": "code",
   "execution_count": 15,
   "metadata": {},
   "outputs": [],
   "source": [
    "# This function converts dataframe to match columns in accordance with the training dataframe.\n",
    "    \n",
    "def match_dtypes(training_df,testing_df,target_name='TARGET'):\n",
    "    for column_name in training_df.drop([target_name],axis=1).columns:\n",
    "         testing_df[column_name]= testing_df[column_name].astype(train[column_name].dtype)\n",
    "        \n",
    "    return testing_df"
   ]
  },
  {
   "cell_type": "code",
   "execution_count": 16,
   "metadata": {},
   "outputs": [
    {
     "data": {
      "text/plain": [
       "SK_ID_CURR                    199882\n",
       "NAME_CONTRACT_TYPE                 2\n",
       "CODE_GENDER                        3\n",
       "FLAG_OWN_CAR                       2\n",
       "FLAG_OWN_REALTY                    2\n",
       "NAME_TYPE_SUITE                    7\n",
       "NAME_INCOME_TYPE                   8\n",
       "NAME_EDUCATION_TYPE                5\n",
       "NAME_FAMILY_STATUS                 6\n",
       "NAME_HOUSING_TYPE                  6\n",
       "OCCUPATION_TYPE                   18\n",
       "WEEKDAY_APPR_PROCESS_START         7\n",
       "ORGANIZATION_TYPE                 58\n",
       "FONDKAPREMONT_MODE                 4\n",
       "HOUSETYPE_MODE                     3\n",
       "WALLSMATERIAL_MODE                 7\n",
       "EMERGENCYSTATE_MODE                2\n",
       "dtype: int64"
      ]
     },
     "execution_count": 16,
     "metadata": {},
     "output_type": "execute_result"
    }
   ],
   "source": [
    "# Number of unique classes in each object column\n",
    "train.select_dtypes('object').apply(pd.Series.nunique)"
   ]
  },
  {
   "cell_type": "code",
   "execution_count": 17,
   "metadata": {},
   "outputs": [
    {
     "data": {
      "text/plain": [
       "SK_ID_CURR                    107629\n",
       "NAME_CONTRACT_TYPE                 2\n",
       "CODE_GENDER                        2\n",
       "FLAG_OWN_CAR                       2\n",
       "FLAG_OWN_REALTY                    2\n",
       "NAME_TYPE_SUITE                    7\n",
       "NAME_INCOME_TYPE                   8\n",
       "NAME_EDUCATION_TYPE                5\n",
       "NAME_FAMILY_STATUS                 6\n",
       "NAME_HOUSING_TYPE                  6\n",
       "OCCUPATION_TYPE                   18\n",
       "WEEKDAY_APPR_PROCESS_START         7\n",
       "ORGANIZATION_TYPE                 58\n",
       "FONDKAPREMONT_MODE                 4\n",
       "HOUSETYPE_MODE                     3\n",
       "WALLSMATERIAL_MODE                 7\n",
       "EMERGENCYSTATE_MODE                2\n",
       "dtype: int64"
      ]
     },
     "execution_count": 17,
     "metadata": {},
     "output_type": "execute_result"
    }
   ],
   "source": [
    "# Number of unique classes in each object column\n",
    "test.select_dtypes('object').apply(pd.Series.nunique)"
   ]
  },
  {
   "cell_type": "code",
   "execution_count": 18,
   "metadata": {},
   "outputs": [
    {
     "name": "stdout",
     "output_type": "stream",
     "text": [
      "Label encoded 4 columns.\n"
     ]
    }
   ],
   "source": [
    "# Create a label encode object having less than or equal to 2 unique values\n",
    "from sklearn.preprocessing import LabelEncoder\n",
    "\n",
    "le = LabelEncoder()\n",
    "transform_counter = 0\n",
    "\n",
    "# iterate through all the categorical columns\n",
    "for col in train.select_dtypes('object').columns:\n",
    "    \n",
    "    # select only those columns where number of unique values in the category is less than or equal to 2 \n",
    "    if pd.Series.nunique(train[col]) <= 2:\n",
    "        train[col] = le.fit_transform(train[col].astype(str))\n",
    "        test[col] = le.fit_transform(test[col].astype(str))\n",
    "\n",
    "        transform_counter+=1\n",
    "        \n",
    "print(\"Label encoded {} columns.\".format(transform_counter))"
   ]
  },
  {
   "cell_type": "code",
   "execution_count": null,
   "metadata": {},
   "outputs": [],
   "source": [
    "# one-hot encode of categorical variables\n",
    "train = pd.get_dummies(train,drop_first=True)\n",
    "test = pd.get_dummies(test,drop_first=True)"
   ]
  },
  {
   "cell_type": "code",
   "execution_count": 20,
   "metadata": {},
   "outputs": [
    {
     "name": "stdout",
     "output_type": "stream",
     "text": [
      "Training Features shape:  (199882, 200110)\n",
      "Testing Features shape:  (107629, 107855)\n"
     ]
    }
   ],
   "source": [
    "print('Training Features shape: ', train.shape)\n",
    "print('Testing Features shape: ', test.shape)"
   ]
  },
  {
   "cell_type": "code",
   "execution_count": 21,
   "metadata": {},
   "outputs": [],
   "source": [
    "# collect the target labels to support the aligning \n",
    "\n",
    "target = train['TARGET']"
   ]
  },
  {
   "cell_type": "code",
   "execution_count": 22,
   "metadata": {},
   "outputs": [],
   "source": [
    "#align the test data column wise\n",
    "train, test = train.align(test,axis=1,join='inner')"
   ]
  },
  {
   "cell_type": "code",
   "execution_count": 23,
   "metadata": {},
   "outputs": [],
   "source": [
    "\n",
    "train['TARGET'] = target"
   ]
  },
  {
   "cell_type": "code",
   "execution_count": 24,
   "metadata": {},
   "outputs": [],
   "source": [
    "#Matches the count of columns from training set to testing set by adding extra cols and setting them to 0.\n",
    "    \n",
    "def match_columns(training_set,testing_set,target_label='TARGET'):\n",
    "    for column in training_set.drop([target_label],axis=1).columns:\n",
    "        if column not in testing_set.columns:\n",
    "            testing_set[column]=0\n",
    "    \n",
    "    return testing_set"
   ]
  },
  {
   "cell_type": "code",
   "execution_count": 25,
   "metadata": {},
   "outputs": [
    {
     "name": "stdout",
     "output_type": "stream",
     "text": [
      "Training Features shape:  (199882, 228)\n",
      "Testing Features shape:  (107629, 227)\n"
     ]
    }
   ],
   "source": [
    "print('Training Features shape: ', train.shape)\n",
    "print('Testing Features shape: ', test.shape)"
   ]
  },
  {
   "cell_type": "code",
   "execution_count": 26,
   "metadata": {},
   "outputs": [
    {
     "data": {
      "text/plain": [
       "count    199882.000000\n",
       "mean         43.909166\n",
       "std          11.955512\n",
       "min          21.021918\n",
       "25%          33.961644\n",
       "50%          43.117808\n",
       "75%          53.890411\n",
       "max          69.120548\n",
       "Name: DAYS_BIRTH, dtype: float64"
      ]
     },
     "execution_count": 26,
     "metadata": {},
     "output_type": "execute_result"
    }
   ],
   "source": [
    "#normalising the DAYS_BIRTH column\n",
    "(train['DAYS_BIRTH']/-365).describe()"
   ]
  },
  {
   "cell_type": "code",
   "execution_count": 27,
   "metadata": {},
   "outputs": [
    {
     "data": {
      "text/plain": [
       "Text(0.5, 0, 'Age of the client (Years)')"
      ]
     },
     "execution_count": 27,
     "metadata": {},
     "output_type": "execute_result"
    },
    {
     "data": {
      "image/png": "[encoded data removed]",
      "text/plain": [
       "<Figure size 864x504 with 1 Axes>"
      ]
     },
     "metadata": {
      "needs_background": "light"
     },
     "output_type": "display_data"
    }
   ],
   "source": [
    "fig, ax = plt.subplots(figsize =(12,7))\n",
    "sns.distplot(train['DAYS_BIRTH']/-365,bins=5,kde=False)\n",
    "plt.xlabel(\"Age of the client (Years)\")"
   ]
  },
  {
   "cell_type": "code",
   "execution_count": 28,
   "metadata": {},
   "outputs": [
    {
     "data": {
      "text/plain": [
       "count    199882.000000\n",
       "mean        174.221795\n",
       "std         386.530331\n",
       "min         -49.073973\n",
       "25%          -7.564384\n",
       "50%          -3.328767\n",
       "75%          -0.794521\n",
       "max        1000.665753\n",
       "Name: DAYS_EMPLOYED, dtype: float64"
      ]
     },
     "execution_count": 28,
     "metadata": {},
     "output_type": "execute_result"
    }
   ],
   "source": [
    "#normalising the DAYS_EMPLOYED column\n",
    "(train['DAYS_EMPLOYED']/365).describe()"
   ]
  },
  {
   "cell_type": "code",
   "execution_count": 29,
   "metadata": {},
   "outputs": [
    {
     "data": {
      "text/plain": [
       "Text(0.5, 0, 'Time before the loan application the persons started current employment(in years)')"
      ]
     },
     "execution_count": 29,
     "metadata": {},
     "output_type": "execute_result"
    },
    {
     "data": {
      "image/png": "[encoded data removed]",
      "text/plain": [
       "<Figure size 864x504 with 1 Axes>"
      ]
     },
     "metadata": {
      "needs_background": "light"
     },
     "output_type": "display_data"
    }
   ],
   "source": [
    "fig, ax = plt.subplots(figsize=(12,7))\n",
    "sns.distplot(train['DAYS_EMPLOYED']/365,kde=False)\n",
    "plt.xlabel(\"Time before the loan application the persons started current employment(in years)\")"
   ]
  },
  {
   "cell_type": "code",
   "execution_count": 30,
   "metadata": {},
   "outputs": [
    {
     "data": {
      "text/plain": [
       "35869"
      ]
     },
     "execution_count": 30,
     "metadata": {},
     "output_type": "execute_result"
    }
   ],
   "source": [
    "# find the number of records where DAYS_EMPLOYED is between [900,1100] years. \n",
    "thousand_anomalies = train[(train['DAYS_EMPLOYED']/365>=900) & (train['DAYS_EMPLOYED']/365<=1100)]\n",
    "len(thousand_anomalies)"
   ]
  },
  {
   "cell_type": "code",
   "execution_count": 31,
   "metadata": {},
   "outputs": [
    {
     "data": {
      "text/plain": [
       "<AxesSubplot:xlabel='TARGET', ylabel='count'>"
      ]
     },
     "execution_count": 31,
     "metadata": {},
     "output_type": "execute_result"
    },
    {
     "data": {
      "image/png": "[encoded data removed]",
      "text/plain": [
       "<Figure size 864x504 with 1 Axes>"
      ]
     },
     "metadata": {
      "needs_background": "light"
     },
     "output_type": "display_data"
    }
   ],
   "source": [
    "fig, ax = plt.subplots(figsize=(12,7))\n",
    "sns.countplot(x='TARGET',data=thousand_anomalies)"
   ]
  },
  {
   "cell_type": "code",
   "execution_count": 32,
   "metadata": {},
   "outputs": [],
   "source": [
    "# get the index of anomalies and non anomalies\n",
    "anomalies_index = pd.Index(thousand_anomalies.index)\n",
    "non_anomalies_index = train.index.difference(anomalies_index)"
   ]
  },
  {
   "cell_type": "code",
   "execution_count": 33,
   "metadata": {},
   "outputs": [],
   "source": [
    "# get the non anomalies records\n",
    "non_anomalies = train.iloc[non_anomalies_index]"
   ]
  },
  {
   "cell_type": "code",
   "execution_count": 34,
   "metadata": {},
   "outputs": [],
   "source": [
    "# get the anomaly targets\n",
    "anomalies_target = thousand_anomalies['TARGET'].value_counts()\n",
    "non_anomalies_target = non_anomalies['TARGET'].value_counts()"
   ]
  },
  {
   "cell_type": "code",
   "execution_count": 35,
   "metadata": {},
   "outputs": [],
   "source": [
    "# Create an anomalous flag column\n",
    "train['DAYS_EMPLOYED_ANOM'] = train[\"DAYS_EMPLOYED\"] == 365243\n",
    "\n",
    "# Replace the anomalous values with nan\n",
    "train['DAYS_EMPLOYED'] = train['DAYS_EMPLOYED'].replace({365243: np.nan})"
   ]
  },
  {
   "cell_type": "code",
   "execution_count": 36,
   "metadata": {},
   "outputs": [
    {
     "data": {
      "text/plain": [
       "Text(0.5, 0, 'Years worked before application')"
      ]
     },
     "execution_count": 36,
     "metadata": {},
     "output_type": "execute_result"
    },
    {
     "data": {
      "image/png": "[encoded data removed]",
      "text/plain": [
       "<Figure size 864x576 with 1 Axes>"
      ]
     },
     "metadata": {
      "needs_background": "light"
     },
     "output_type": "display_data"
    }
   ],
   "source": [
    "# Looking at the years employed for anomalies\n",
    "\n",
    "plt.figure(figsize=(12,8))\n",
    "(train['DAYS_EMPLOYED']/-365).plot.hist(title = 'Years Employment Histogram')\n",
    "plt.xlabel(\"Years worked before application\")"
   ]
  },
  {
   "cell_type": "code",
   "execution_count": 37,
   "metadata": {},
   "outputs": [],
   "source": [
    "# Create an anomalous flag column\n",
    "test['DAYS_EMPLOYED_ANOM'] = test[\"DAYS_EMPLOYED\"] == 365243\n",
    "\n",
    "# Replace the anomalous values with nan\n",
    "test['DAYS_EMPLOYED'] = test['DAYS_EMPLOYED'].replace({365243: np.nan})"
   ]
  },
  {
   "cell_type": "code",
   "execution_count": 38,
   "metadata": {},
   "outputs": [],
   "source": [
    "#getting the correlation value of TARGET column\n",
    "corr_train = train.corr()['TARGET']"
   ]
  },
  {
   "cell_type": "code",
   "execution_count": 39,
   "metadata": {},
   "outputs": [
    {
     "name": "stdout",
     "output_type": "stream",
     "text": [
      "CODE_GENDER_M                  0.052790\n",
      "DAYS_LAST_PHONE_CHANGE         0.054519\n",
      "NAME_INCOME_TYPE_Working       0.056874\n",
      "REGION_RATING_CLIENT           0.059773\n",
      "REGION_RATING_CLIENT_W_CITY    0.061973\n",
      "DAYS_EMPLOYED                  0.076092\n",
      "DAYS_BIRTH                     0.078178\n",
      "TARGET                         1.000000\n",
      "FLAG_MOBIL                          NaN\n",
      "FLAG_DOCUMENT_12                    NaN\n",
      "Name: TARGET, dtype: float64\n"
     ]
    },
    {
     "data": {
      "text/plain": [
       "EXT_SOURCE_3                           -0.177750\n",
       "EXT_SOURCE_2                           -0.158738\n",
       "EXT_SOURCE_1                           -0.155788\n",
       "NAME_EDUCATION_TYPE_Higher education   -0.059378\n",
       "FLOORSMAX_AVG                          -0.047607\n",
       "FLOORSMAX_MEDI                         -0.047398\n",
       "FLOORSMAX_MODE                         -0.046761\n",
       "NAME_INCOME_TYPE_Pensioner             -0.045483\n",
       "DAYS_EMPLOYED_ANOM                     -0.045234\n",
       "ORGANIZATION_TYPE_XNA                  -0.045234\n",
       "Name: TARGET, dtype: float64"
      ]
     },
     "execution_count": 39,
     "metadata": {},
     "output_type": "execute_result"
    }
   ],
   "source": [
    "print(corr_train.sort_values().tail(10))\n",
    "corr_train.sort_values().head(10)"
   ]
  },
  {
   "cell_type": "code",
   "execution_count": 40,
   "metadata": {},
   "outputs": [],
   "source": [
    "\n",
    "from sklearn.impute import SimpleImputer\n",
    "#creating the data frame name poly_fitting_vars\n",
    "poly_fitting_vars = ['EXT_SOURCE_3', 'EXT_SOURCE_2', 'EXT_SOURCE_1','DAYS_BIRTH']\n",
    "imputer = SimpleImputer(strategy = 'median')\n",
    "train[poly_fitting_vars] = imputer.fit_transform(train[poly_fitting_vars])"
   ]
  },
  {
   "cell_type": "code",
   "execution_count": 41,
   "metadata": {},
   "outputs": [
    {
     "data": {
      "text/plain": [
       "(199882, 4)"
      ]
     },
     "execution_count": 41,
     "metadata": {},
     "output_type": "execute_result"
    }
   ],
   "source": [
    "#getting the shape of poly_fitting_vars\n",
    "train[poly_fitting_vars].shape"
   ]
  },
  {
   "cell_type": "code",
   "execution_count": 42,
   "metadata": {},
   "outputs": [
    {
     "data": {
      "text/plain": [
       "(107629, 4)"
      ]
     },
     "execution_count": 42,
     "metadata": {},
     "output_type": "execute_result"
    }
   ],
   "source": [
    "#fitting the poly_fitting_vars into test data frame\n",
    "test[poly_fitting_vars] = imputer.transform(test[poly_fitting_vars])\n",
    "\n",
    "test[poly_fitting_vars].shape"
   ]
  },
  {
   "cell_type": "code",
   "execution_count": 43,
   "metadata": {},
   "outputs": [],
   "source": [
    "from sklearn.preprocessing import PolynomialFeatures\n",
    "#perform a polynomial features transform of the dataset\n",
    "poly_feat = PolynomialFeatures(degree=4)\n",
    "\n",
    "poly_interaction_train = poly_feat.fit_transform(train[poly_fitting_vars])"
   ]
  },
  {
   "cell_type": "code",
   "execution_count": 44,
   "metadata": {},
   "outputs": [
    {
     "data": {
      "text/plain": [
       "(199882, 70)"
      ]
     },
     "execution_count": 44,
     "metadata": {},
     "output_type": "execute_result"
    }
   ],
   "source": [
    "#getting the shape of poly_interaction_train\n",
    "poly_interaction_train.shape"
   ]
  },
  {
   "cell_type": "code",
   "execution_count": 45,
   "metadata": {},
   "outputs": [],
   "source": [
    "\n",
    "poly_interaction_test = poly_feat.fit_transform(test[poly_fitting_vars])"
   ]
  },
  {
   "cell_type": "code",
   "execution_count": 46,
   "metadata": {},
   "outputs": [
    {
     "data": {
      "text/plain": [
       "(107629, 70)"
      ]
     },
     "execution_count": 46,
     "metadata": {},
     "output_type": "execute_result"
    }
   ],
   "source": [
    "#getting the shape of poly_interaction_test\n",
    "poly_interaction_test.shape"
   ]
  },
  {
   "cell_type": "code",
   "execution_count": 47,
   "metadata": {},
   "outputs": [
    {
     "data": {
      "text/plain": [
       "(199882, 70)"
      ]
     },
     "execution_count": 47,
     "metadata": {},
     "output_type": "execute_result"
    }
   ],
   "source": [
    "#convert the array back to a dataframe\n",
    "poly_interaction_train = pd.DataFrame(poly_interaction_train,columns=poly_feat.get_feature_names(poly_fitting_vars))\n",
    "poly_interaction_train.shape"
   ]
  },
  {
   "cell_type": "code",
   "execution_count": 48,
   "metadata": {},
   "outputs": [
    {
     "data": {
      "text/plain": [
       "(107629, 70)"
      ]
     },
     "execution_count": 48,
     "metadata": {},
     "output_type": "execute_result"
    }
   ],
   "source": [
    "#convert the array back to a dataframe\n",
    "poly_interaction_test =  pd.DataFrame(poly_interaction_test,columns=poly_feat.get_feature_names(poly_fitting_vars))\n",
    "poly_interaction_test.shape"
   ]
  },
  {
   "cell_type": "code",
   "execution_count": 49,
   "metadata": {},
   "outputs": [],
   "source": [
    "#fitting the poly_interaction_train into test data frame\n",
    "poly_interaction_train['TARGET'] = train['TARGET']\n",
    "interaction = poly_interaction_train.corr()['TARGET'].sort_values()"
   ]
  },
  {
   "cell_type": "code",
   "execution_count": 50,
   "metadata": {},
   "outputs": [
    {
     "name": "stdout",
     "output_type": "stream",
     "text": [
      "EXT_SOURCE_2^3 DAYS_BIRTH                            0.138778\n",
      "EXT_SOURCE_3^2 DAYS_BIRTH                            0.140882\n",
      "EXT_SOURCE_3^2 EXT_SOURCE_1 DAYS_BIRTH               0.143475\n",
      "EXT_SOURCE_2^2 DAYS_BIRTH                            0.147750\n",
      "EXT_SOURCE_2^2 EXT_SOURCE_1 DAYS_BIRTH               0.148778\n",
      "EXT_SOURCE_3 DAYS_BIRTH                              0.149307\n",
      "EXT_SOURCE_3 EXT_SOURCE_1 DAYS_BIRTH                 0.151075\n",
      "EXT_SOURCE_2 EXT_SOURCE_1 DAYS_BIRTH                 0.154782\n",
      "EXT_SOURCE_2 DAYS_BIRTH                              0.155323\n",
      "EXT_SOURCE_3^2 EXT_SOURCE_2 DAYS_BIRTH               0.162843\n",
      "EXT_SOURCE_3 EXT_SOURCE_2^2 DAYS_BIRTH               0.166472\n",
      "EXT_SOURCE_3 EXT_SOURCE_2 EXT_SOURCE_1 DAYS_BIRTH    0.172856\n",
      "EXT_SOURCE_3 EXT_SOURCE_2 DAYS_BIRTH                 0.179538\n",
      "TARGET                                               1.000000\n",
      "1                                                         NaN\n",
      "Name: TARGET, dtype: float64\n"
     ]
    },
    {
     "data": {
      "text/plain": [
       "EXT_SOURCE_3 EXT_SOURCE_2                  -0.191603\n",
       "EXT_SOURCE_3 EXT_SOURCE_2 EXT_SOURCE_1     -0.187986\n",
       "EXT_SOURCE_3 EXT_SOURCE_2^2                -0.174419\n",
       "EXT_SOURCE_3 EXT_SOURCE_2^2 EXT_SOURCE_1   -0.173202\n",
       "EXT_SOURCE_3^2 EXT_SOURCE_2                -0.170124\n",
       "EXT_SOURCE_3^2 EXT_SOURCE_2 EXT_SOURCE_1   -0.169373\n",
       "EXT_SOURCE_2 EXT_SOURCE_1                  -0.165595\n",
       "EXT_SOURCE_3 EXT_SOURCE_1                  -0.163094\n",
       "EXT_SOURCE_3^2 EXT_SOURCE_2^2              -0.161024\n",
       "EXT_SOURCE_3 EXT_SOURCE_2^3                -0.160356\n",
       "EXT_SOURCE_3 EXT_SOURCE_2 EXT_SOURCE_1^2   -0.159590\n",
       "EXT_SOURCE_2                               -0.158543\n",
       "EXT_SOURCE_2^2 EXT_SOURCE_1                -0.156028\n",
       "EXT_SOURCE_3                               -0.154480\n",
       "EXT_SOURCE_3 EXT_SOURCE_2 DAYS_BIRTH^2     -0.153610\n",
       "Name: TARGET, dtype: float64"
      ]
     },
     "execution_count": 50,
     "metadata": {},
     "output_type": "execute_result"
    }
   ],
   "source": [
    "# looking at the top 15 most positive and negative correlated interaction variables.\n",
    "print(interaction.tail(15))\n",
    "(interaction.head(15))"
   ]
  },
  {
   "cell_type": "code",
   "execution_count": 51,
   "metadata": {},
   "outputs": [
    {
     "data": {
      "text/plain": [
       "{'EXT_SOURCE_2',\n",
       " 'EXT_SOURCE_2 DAYS_BIRTH',\n",
       " 'EXT_SOURCE_2 EXT_SOURCE_1',\n",
       " 'EXT_SOURCE_2 EXT_SOURCE_1 DAYS_BIRTH',\n",
       " 'EXT_SOURCE_2^2 DAYS_BIRTH',\n",
       " 'EXT_SOURCE_2^2 EXT_SOURCE_1',\n",
       " 'EXT_SOURCE_2^2 EXT_SOURCE_1 DAYS_BIRTH',\n",
       " 'EXT_SOURCE_2^3 DAYS_BIRTH',\n",
       " 'EXT_SOURCE_3',\n",
       " 'EXT_SOURCE_3 DAYS_BIRTH',\n",
       " 'EXT_SOURCE_3 EXT_SOURCE_1',\n",
       " 'EXT_SOURCE_3 EXT_SOURCE_1 DAYS_BIRTH',\n",
       " 'EXT_SOURCE_3 EXT_SOURCE_2',\n",
       " 'EXT_SOURCE_3 EXT_SOURCE_2 DAYS_BIRTH',\n",
       " 'EXT_SOURCE_3 EXT_SOURCE_2 DAYS_BIRTH^2',\n",
       " 'EXT_SOURCE_3 EXT_SOURCE_2 EXT_SOURCE_1',\n",
       " 'EXT_SOURCE_3 EXT_SOURCE_2 EXT_SOURCE_1 DAYS_BIRTH',\n",
       " 'EXT_SOURCE_3 EXT_SOURCE_2 EXT_SOURCE_1^2',\n",
       " 'EXT_SOURCE_3 EXT_SOURCE_2^2',\n",
       " 'EXT_SOURCE_3 EXT_SOURCE_2^2 DAYS_BIRTH',\n",
       " 'EXT_SOURCE_3 EXT_SOURCE_2^2 EXT_SOURCE_1',\n",
       " 'EXT_SOURCE_3 EXT_SOURCE_2^3',\n",
       " 'EXT_SOURCE_3^2 DAYS_BIRTH',\n",
       " 'EXT_SOURCE_3^2 EXT_SOURCE_1 DAYS_BIRTH',\n",
       " 'EXT_SOURCE_3^2 EXT_SOURCE_2',\n",
       " 'EXT_SOURCE_3^2 EXT_SOURCE_2 DAYS_BIRTH',\n",
       " 'EXT_SOURCE_3^2 EXT_SOURCE_2 EXT_SOURCE_1',\n",
       " 'EXT_SOURCE_3^2 EXT_SOURCE_2^2'}"
      ]
     },
     "execution_count": 51,
     "metadata": {},
     "output_type": "execute_result"
    }
   ],
   "source": [
    "# Get the names of the columns which have the highest correlation - '1' and 'TARGET' can be dropped.\n",
    "set(interaction.head(15).index).union(interaction.tail(15).index).difference(set({'1','TARGET'}))"
   ]
  },
  {
   "cell_type": "code",
   "execution_count": 52,
   "metadata": {},
   "outputs": [],
   "source": [
    "# Choose the selected columns which have highest correlation to 'TARGET'. Columns '1' and 'TARGET' are not necessary\n",
    "selected_inter_variables = list(set(interaction.head(15).index).union(interaction.tail(15).index).difference(set({'1','TARGET'})))"
   ]
  },
  {
   "cell_type": "code",
   "execution_count": 53,
   "metadata": {},
   "outputs": [
    {
     "data": {
      "text/html": [
       "<div>\n",
       "<style scoped>\n",
       "    .dataframe tbody tr th:only-of-type {\n",
       "        vertical-align: middle;\n",
       "    }\n",
       "\n",
       "    .dataframe tbody tr th {\n",
       "        vertical-align: top;\n",
       "    }\n",
       "\n",
       "    .dataframe thead th {\n",
       "        text-align: right;\n",
       "    }\n",
       "</style>\n",
       "<table border=\"1\" class=\"dataframe\">\n",
       "  <thead>\n",
       "    <tr style=\"text-align: right;\">\n",
       "      <th></th>\n",
       "      <th>EXT_SOURCE_2^2 EXT_SOURCE_1</th>\n",
       "      <th>EXT_SOURCE_3 EXT_SOURCE_1</th>\n",
       "      <th>EXT_SOURCE_3^2 EXT_SOURCE_2</th>\n",
       "      <th>EXT_SOURCE_3^2 EXT_SOURCE_2^2</th>\n",
       "      <th>EXT_SOURCE_3 EXT_SOURCE_2 EXT_SOURCE_1^2</th>\n",
       "      <th>EXT_SOURCE_3 EXT_SOURCE_1 DAYS_BIRTH</th>\n",
       "      <th>EXT_SOURCE_3 EXT_SOURCE_2^2 DAYS_BIRTH</th>\n",
       "      <th>EXT_SOURCE_3 EXT_SOURCE_2^2</th>\n",
       "      <th>EXT_SOURCE_2</th>\n",
       "      <th>EXT_SOURCE_2^2 EXT_SOURCE_1 DAYS_BIRTH</th>\n",
       "      <th>...</th>\n",
       "      <th>EXT_SOURCE_3^2 DAYS_BIRTH</th>\n",
       "      <th>EXT_SOURCE_2 EXT_SOURCE_1 DAYS_BIRTH</th>\n",
       "      <th>EXT_SOURCE_3 EXT_SOURCE_2^3</th>\n",
       "      <th>EXT_SOURCE_3 EXT_SOURCE_2 DAYS_BIRTH^2</th>\n",
       "      <th>EXT_SOURCE_3^2 EXT_SOURCE_1 DAYS_BIRTH</th>\n",
       "      <th>EXT_SOURCE_3^2 EXT_SOURCE_2 EXT_SOURCE_1</th>\n",
       "      <th>EXT_SOURCE_3^2 EXT_SOURCE_2 DAYS_BIRTH</th>\n",
       "      <th>EXT_SOURCE_2 EXT_SOURCE_1</th>\n",
       "      <th>EXT_SOURCE_2^3 DAYS_BIRTH</th>\n",
       "      <th>EXT_SOURCE_3 EXT_SOURCE_2 EXT_SOURCE_1 DAYS_BIRTH</th>\n",
       "    </tr>\n",
       "  </thead>\n",
       "  <tbody>\n",
       "    <tr>\n",
       "      <th>0</th>\n",
       "      <td>0.064982</td>\n",
       "      <td>0.271222</td>\n",
       "      <td>0.102608</td>\n",
       "      <td>0.036745</td>\n",
       "      <td>0.049215</td>\n",
       "      <td>-5137.766104</td>\n",
       "      <td>-1300.391479</td>\n",
       "      <td>0.068648</td>\n",
       "      <td>0.358116</td>\n",
       "      <td>-1230.959419</td>\n",
       "      <td>...</td>\n",
       "      <td>-5427.560944</td>\n",
       "      <td>-3437.320634</td>\n",
       "      <td>0.024584</td>\n",
       "      <td>6.878586e+07</td>\n",
       "      <td>-2750.124176</td>\n",
       "      <td>0.051991</td>\n",
       "      <td>-1943.696261</td>\n",
       "      <td>0.181456</td>\n",
       "      <td>-870.001159</td>\n",
       "      <td>-1839.916100</td>\n",
       "    </tr>\n",
       "    <tr>\n",
       "      <th>1</th>\n",
       "      <td>0.086989</td>\n",
       "      <td>0.401437</td>\n",
       "      <td>0.260075</td>\n",
       "      <td>0.107760</td>\n",
       "      <td>0.084280</td>\n",
       "      <td>-5577.570544</td>\n",
       "      <td>-1889.792111</td>\n",
       "      <td>0.136015</td>\n",
       "      <td>0.414341</td>\n",
       "      <td>-1208.624643</td>\n",
       "      <td>...</td>\n",
       "      <td>-8721.027554</td>\n",
       "      <td>-2916.978092</td>\n",
       "      <td>0.056357</td>\n",
       "      <td>6.336990e+07</td>\n",
       "      <td>-4418.910992</td>\n",
       "      <td>0.131779</td>\n",
       "      <td>-3613.482337</td>\n",
       "      <td>0.209945</td>\n",
       "      <td>-988.330339</td>\n",
       "      <td>-2311.018113</td>\n",
       "    </tr>\n",
       "    <tr>\n",
       "      <th>2</th>\n",
       "      <td>0.097520</td>\n",
       "      <td>0.096067</td>\n",
       "      <td>0.015770</td>\n",
       "      <td>0.006918</td>\n",
       "      <td>0.021355</td>\n",
       "      <td>-1904.147696</td>\n",
       "      <td>-723.267197</td>\n",
       "      <td>0.036490</td>\n",
       "      <td>0.438705</td>\n",
       "      <td>-1932.942296</td>\n",
       "      <td>...</td>\n",
       "      <td>-712.492851</td>\n",
       "      <td>-4406.015524</td>\n",
       "      <td>0.016008</td>\n",
       "      <td>3.267770e+07</td>\n",
       "      <td>-361.017377</td>\n",
       "      <td>0.007991</td>\n",
       "      <td>-312.574379</td>\n",
       "      <td>0.222290</td>\n",
       "      <td>-1673.571071</td>\n",
       "      <td>-835.359658</td>\n",
       "    </tr>\n",
       "    <tr>\n",
       "      <th>3</th>\n",
       "      <td>0.260779</td>\n",
       "      <td>0.137889</td>\n",
       "      <td>0.053128</td>\n",
       "      <td>0.038114</td>\n",
       "      <td>0.050123</td>\n",
       "      <td>-1797.246363</td>\n",
       "      <td>-1825.513366</td>\n",
       "      <td>0.140058</td>\n",
       "      <td>0.717402</td>\n",
       "      <td>-3398.993318</td>\n",
       "      <td>...</td>\n",
       "      <td>-965.255578</td>\n",
       "      <td>-4737.920960</td>\n",
       "      <td>0.100478</td>\n",
       "      <td>3.316655e+07</td>\n",
       "      <td>-489.091275</td>\n",
       "      <td>0.026920</td>\n",
       "      <td>-692.476149</td>\n",
       "      <td>0.363505</td>\n",
       "      <td>-4812.438749</td>\n",
       "      <td>-1289.347887</td>\n",
       "    </tr>\n",
       "    <tr>\n",
       "      <th>4</th>\n",
       "      <td>0.001972</td>\n",
       "      <td>0.221176</td>\n",
       "      <td>0.011887</td>\n",
       "      <td>0.000742</td>\n",
       "      <td>0.006992</td>\n",
       "      <td>-4068.093072</td>\n",
       "      <td>-31.247621</td>\n",
       "      <td>0.001699</td>\n",
       "      <td>0.062386</td>\n",
       "      <td>-36.272195</td>\n",
       "      <td>...</td>\n",
       "      <td>-3504.564032</td>\n",
       "      <td>-581.416027</td>\n",
       "      <td>0.000106</td>\n",
       "      <td>9.212610e+06</td>\n",
       "      <td>-1775.749065</td>\n",
       "      <td>0.006023</td>\n",
       "      <td>-218.635577</td>\n",
       "      <td>0.031611</td>\n",
       "      <td>-4.465942</td>\n",
       "      <td>-253.791875</td>\n",
       "    </tr>\n",
       "  </tbody>\n",
       "</table>\n",
       "<p>5 rows × 28 columns</p>\n",
       "</div>"
      ],
      "text/plain": [
       "   EXT_SOURCE_2^2 EXT_SOURCE_1  EXT_SOURCE_3 EXT_SOURCE_1  \\\n",
       "0                     0.064982                   0.271222   \n",
       "1                     0.086989                   0.401437   \n",
       "2                     0.097520                   0.096067   \n",
       "3                     0.260779                   0.137889   \n",
       "4                     0.001972                   0.221176   \n",
       "\n",
       "   EXT_SOURCE_3^2 EXT_SOURCE_2  EXT_SOURCE_3^2 EXT_SOURCE_2^2  \\\n",
       "0                     0.102608                       0.036745   \n",
       "1                     0.260075                       0.107760   \n",
       "2                     0.015770                       0.006918   \n",
       "3                     0.053128                       0.038114   \n",
       "4                     0.011887                       0.000742   \n",
       "\n",
       "   EXT_SOURCE_3 EXT_SOURCE_2 EXT_SOURCE_1^2  \\\n",
       "0                                  0.049215   \n",
       "1                                  0.084280   \n",
       "2                                  0.021355   \n",
       "3                                  0.050123   \n",
       "4                                  0.006992   \n",
       "\n",
       "   EXT_SOURCE_3 EXT_SOURCE_1 DAYS_BIRTH  \\\n",
       "0                          -5137.766104   \n",
       "1                          -5577.570544   \n",
       "2                          -1904.147696   \n",
       "3                          -1797.246363   \n",
       "4                          -4068.093072   \n",
       "\n",
       "   EXT_SOURCE_3 EXT_SOURCE_2^2 DAYS_BIRTH  EXT_SOURCE_3 EXT_SOURCE_2^2  \\\n",
       "0                            -1300.391479                     0.068648   \n",
       "1                            -1889.792111                     0.136015   \n",
       "2                             -723.267197                     0.036490   \n",
       "3                            -1825.513366                     0.140058   \n",
       "4                              -31.247621                     0.001699   \n",
       "\n",
       "   EXT_SOURCE_2  EXT_SOURCE_2^2 EXT_SOURCE_1 DAYS_BIRTH  ...  \\\n",
       "0      0.358116                            -1230.959419  ...   \n",
       "1      0.414341                            -1208.624643  ...   \n",
       "2      0.438705                            -1932.942296  ...   \n",
       "3      0.717402                            -3398.993318  ...   \n",
       "4      0.062386                              -36.272195  ...   \n",
       "\n",
       "   EXT_SOURCE_3^2 DAYS_BIRTH  EXT_SOURCE_2 EXT_SOURCE_1 DAYS_BIRTH  \\\n",
       "0               -5427.560944                          -3437.320634   \n",
       "1               -8721.027554                          -2916.978092   \n",
       "2                -712.492851                          -4406.015524   \n",
       "3                -965.255578                          -4737.920960   \n",
       "4               -3504.564032                           -581.416027   \n",
       "\n",
       "   EXT_SOURCE_3 EXT_SOURCE_2^3  EXT_SOURCE_3 EXT_SOURCE_2 DAYS_BIRTH^2  \\\n",
       "0                     0.024584                            6.878586e+07   \n",
       "1                     0.056357                            6.336990e+07   \n",
       "2                     0.016008                            3.267770e+07   \n",
       "3                     0.100478                            3.316655e+07   \n",
       "4                     0.000106                            9.212610e+06   \n",
       "\n",
       "   EXT_SOURCE_3^2 EXT_SOURCE_1 DAYS_BIRTH  \\\n",
       "0                            -2750.124176   \n",
       "1                            -4418.910992   \n",
       "2                             -361.017377   \n",
       "3                             -489.091275   \n",
       "4                            -1775.749065   \n",
       "\n",
       "   EXT_SOURCE_3^2 EXT_SOURCE_2 EXT_SOURCE_1  \\\n",
       "0                                  0.051991   \n",
       "1                                  0.131779   \n",
       "2                                  0.007991   \n",
       "3                                  0.026920   \n",
       "4                                  0.006023   \n",
       "\n",
       "   EXT_SOURCE_3^2 EXT_SOURCE_2 DAYS_BIRTH  EXT_SOURCE_2 EXT_SOURCE_1  \\\n",
       "0                            -1943.696261                   0.181456   \n",
       "1                            -3613.482337                   0.209945   \n",
       "2                             -312.574379                   0.222290   \n",
       "3                             -692.476149                   0.363505   \n",
       "4                             -218.635577                   0.031611   \n",
       "\n",
       "   EXT_SOURCE_2^3 DAYS_BIRTH  \\\n",
       "0                -870.001159   \n",
       "1                -988.330339   \n",
       "2               -1673.571071   \n",
       "3               -4812.438749   \n",
       "4                  -4.465942   \n",
       "\n",
       "   EXT_SOURCE_3 EXT_SOURCE_2 EXT_SOURCE_1 DAYS_BIRTH  \n",
       "0                                       -1839.916100  \n",
       "1                                       -2311.018113  \n",
       "2                                        -835.359658  \n",
       "3                                       -1289.347887  \n",
       "4                                        -253.791875  \n",
       "\n",
       "[5 rows x 28 columns]"
      ]
     },
     "execution_count": 53,
     "metadata": {},
     "output_type": "execute_result"
    }
   ],
   "source": [
    "# look at the selected features in train\n",
    "poly_interaction_train[selected_inter_variables].head()"
   ]
  },
  {
   "cell_type": "code",
   "execution_count": 54,
   "metadata": {},
   "outputs": [
    {
     "data": {
      "text/html": [
       "<div>\n",
       "<style scoped>\n",
       "    .dataframe tbody tr th:only-of-type {\n",
       "        vertical-align: middle;\n",
       "    }\n",
       "\n",
       "    .dataframe tbody tr th {\n",
       "        vertical-align: top;\n",
       "    }\n",
       "\n",
       "    .dataframe thead th {\n",
       "        text-align: right;\n",
       "    }\n",
       "</style>\n",
       "<table border=\"1\" class=\"dataframe\">\n",
       "  <thead>\n",
       "    <tr style=\"text-align: right;\">\n",
       "      <th></th>\n",
       "      <th>EXT_SOURCE_2^2 EXT_SOURCE_1</th>\n",
       "      <th>EXT_SOURCE_3 EXT_SOURCE_1</th>\n",
       "      <th>EXT_SOURCE_3^2 EXT_SOURCE_2</th>\n",
       "      <th>EXT_SOURCE_3^2 EXT_SOURCE_2^2</th>\n",
       "      <th>EXT_SOURCE_3 EXT_SOURCE_2 EXT_SOURCE_1^2</th>\n",
       "      <th>EXT_SOURCE_3 EXT_SOURCE_1 DAYS_BIRTH</th>\n",
       "      <th>EXT_SOURCE_3 EXT_SOURCE_2^2 DAYS_BIRTH</th>\n",
       "      <th>EXT_SOURCE_3 EXT_SOURCE_2^2</th>\n",
       "      <th>EXT_SOURCE_2</th>\n",
       "      <th>EXT_SOURCE_2^2 EXT_SOURCE_1 DAYS_BIRTH</th>\n",
       "      <th>...</th>\n",
       "      <th>EXT_SOURCE_3^2 DAYS_BIRTH</th>\n",
       "      <th>EXT_SOURCE_2 EXT_SOURCE_1 DAYS_BIRTH</th>\n",
       "      <th>EXT_SOURCE_3 EXT_SOURCE_2^3</th>\n",
       "      <th>EXT_SOURCE_3 EXT_SOURCE_2 DAYS_BIRTH^2</th>\n",
       "      <th>EXT_SOURCE_3^2 EXT_SOURCE_1 DAYS_BIRTH</th>\n",
       "      <th>EXT_SOURCE_3^2 EXT_SOURCE_2 EXT_SOURCE_1</th>\n",
       "      <th>EXT_SOURCE_3^2 EXT_SOURCE_2 DAYS_BIRTH</th>\n",
       "      <th>EXT_SOURCE_2 EXT_SOURCE_1</th>\n",
       "      <th>EXT_SOURCE_2^3 DAYS_BIRTH</th>\n",
       "      <th>EXT_SOURCE_3 EXT_SOURCE_2 EXT_SOURCE_1 DAYS_BIRTH</th>\n",
       "    </tr>\n",
       "  </thead>\n",
       "  <tbody>\n",
       "    <tr>\n",
       "      <th>0</th>\n",
       "      <td>0.222315</td>\n",
       "      <td>0.341427</td>\n",
       "      <td>0.300754</td>\n",
       "      <td>0.199215</td>\n",
       "      <td>0.114593</td>\n",
       "      <td>-6294.891424</td>\n",
       "      <td>-5450.831264</td>\n",
       "      <td>0.295646</td>\n",
       "      <td>0.662386</td>\n",
       "      <td>-4098.830325</td>\n",
       "      <td>...</td>\n",
       "      <td>-8371.264056</td>\n",
       "      <td>-6187.979921</td>\n",
       "      <td>0.195832</td>\n",
       "      <td>1.517197e+08</td>\n",
       "      <td>-4241.687178</td>\n",
       "      <td>0.152391</td>\n",
       "      <td>-5545.006838</td>\n",
       "      <td>0.335628</td>\n",
       "      <td>-5358.255153</td>\n",
       "      <td>-4169.646992</td>\n",
       "    </tr>\n",
       "    <tr>\n",
       "      <th>1</th>\n",
       "      <td>0.036864</td>\n",
       "      <td>0.239289</td>\n",
       "      <td>0.060156</td>\n",
       "      <td>0.016226</td>\n",
       "      <td>0.032704</td>\n",
       "      <td>-4238.764383</td>\n",
       "      <td>-608.623451</td>\n",
       "      <td>0.034358</td>\n",
       "      <td>0.269730</td>\n",
       "      <td>-653.012112</td>\n",
       "      <td>...</td>\n",
       "      <td>-3950.633318</td>\n",
       "      <td>-2420.988554</td>\n",
       "      <td>0.009267</td>\n",
       "      <td>3.997025e+07</td>\n",
       "      <td>-2001.770650</td>\n",
       "      <td>0.030481</td>\n",
       "      <td>-1065.602480</td>\n",
       "      <td>0.136671</td>\n",
       "      <td>-347.617909</td>\n",
       "      <td>-1143.319938</td>\n",
       "    </tr>\n",
       "    <tr>\n",
       "      <th>2</th>\n",
       "      <td>0.133344</td>\n",
       "      <td>0.160619</td>\n",
       "      <td>0.041127</td>\n",
       "      <td>0.020166</td>\n",
       "      <td>0.043679</td>\n",
       "      <td>-1805.840492</td>\n",
       "      <td>-782.867100</td>\n",
       "      <td>0.069632</td>\n",
       "      <td>0.490338</td>\n",
       "      <td>-1499.182131</td>\n",
       "      <td>...</td>\n",
       "      <td>-943.002908</td>\n",
       "      <td>-3057.448756</td>\n",
       "      <td>0.034143</td>\n",
       "      <td>1.795044e+07</td>\n",
       "      <td>-522.991701</td>\n",
       "      <td>0.022809</td>\n",
       "      <td>-462.389797</td>\n",
       "      <td>0.271942</td>\n",
       "      <td>-1325.463711</td>\n",
       "      <td>-885.471520</td>\n",
       "    </tr>\n",
       "    <tr>\n",
       "      <th>3</th>\n",
       "      <td>0.045366</td>\n",
       "      <td>0.443225</td>\n",
       "      <td>0.095988</td>\n",
       "      <td>0.024138</td>\n",
       "      <td>0.079959</td>\n",
       "      <td>-3813.063293</td>\n",
       "      <td>-336.113699</td>\n",
       "      <td>0.039069</td>\n",
       "      <td>0.251469</td>\n",
       "      <td>-390.281295</td>\n",
       "      <td>...</td>\n",
       "      <td>-3283.843797</td>\n",
       "      <td>-1552.003633</td>\n",
       "      <td>0.009825</td>\n",
       "      <td>1.149876e+07</td>\n",
       "      <td>-2355.810201</td>\n",
       "      <td>0.068861</td>\n",
       "      <td>-825.785959</td>\n",
       "      <td>0.180403</td>\n",
       "      <td>-136.805933</td>\n",
       "      <td>-958.868424</td>\n",
       "    </tr>\n",
       "    <tr>\n",
       "      <th>4</th>\n",
       "      <td>0.084751</td>\n",
       "      <td>0.343828</td>\n",
       "      <td>0.188315</td>\n",
       "      <td>0.077016</td>\n",
       "      <td>0.071250</td>\n",
       "      <td>-5334.141822</td>\n",
       "      <td>-1760.813233</td>\n",
       "      <td>0.113498</td>\n",
       "      <td>0.408976</td>\n",
       "      <td>-1314.824272</td>\n",
       "      <td>...</td>\n",
       "      <td>-7143.485033</td>\n",
       "      <td>-3214.915389</td>\n",
       "      <td>0.046418</td>\n",
       "      <td>6.679423e+07</td>\n",
       "      <td>-3619.576287</td>\n",
       "      <td>0.095418</td>\n",
       "      <td>-2921.516237</td>\n",
       "      <td>0.207227</td>\n",
       "      <td>-1061.251416</td>\n",
       "      <td>-2181.537705</td>\n",
       "    </tr>\n",
       "  </tbody>\n",
       "</table>\n",
       "<p>5 rows × 28 columns</p>\n",
       "</div>"
      ],
      "text/plain": [
       "   EXT_SOURCE_2^2 EXT_SOURCE_1  EXT_SOURCE_3 EXT_SOURCE_1  \\\n",
       "0                     0.222315                   0.341427   \n",
       "1                     0.036864                   0.239289   \n",
       "2                     0.133344                   0.160619   \n",
       "3                     0.045366                   0.443225   \n",
       "4                     0.084751                   0.343828   \n",
       "\n",
       "   EXT_SOURCE_3^2 EXT_SOURCE_2  EXT_SOURCE_3^2 EXT_SOURCE_2^2  \\\n",
       "0                     0.300754                       0.199215   \n",
       "1                     0.060156                       0.016226   \n",
       "2                     0.041127                       0.020166   \n",
       "3                     0.095988                       0.024138   \n",
       "4                     0.188315                       0.077016   \n",
       "\n",
       "   EXT_SOURCE_3 EXT_SOURCE_2 EXT_SOURCE_1^2  \\\n",
       "0                                  0.114593   \n",
       "1                                  0.032704   \n",
       "2                                  0.043679   \n",
       "3                                  0.079959   \n",
       "4                                  0.071250   \n",
       "\n",
       "   EXT_SOURCE_3 EXT_SOURCE_1 DAYS_BIRTH  \\\n",
       "0                          -6294.891424   \n",
       "1                          -4238.764383   \n",
       "2                          -1805.840492   \n",
       "3                          -3813.063293   \n",
       "4                          -5334.141822   \n",
       "\n",
       "   EXT_SOURCE_3 EXT_SOURCE_2^2 DAYS_BIRTH  EXT_SOURCE_3 EXT_SOURCE_2^2  \\\n",
       "0                            -5450.831264                     0.295646   \n",
       "1                             -608.623451                     0.034358   \n",
       "2                             -782.867100                     0.069632   \n",
       "3                             -336.113699                     0.039069   \n",
       "4                            -1760.813233                     0.113498   \n",
       "\n",
       "   EXT_SOURCE_2  EXT_SOURCE_2^2 EXT_SOURCE_1 DAYS_BIRTH  ...  \\\n",
       "0      0.662386                            -4098.830325  ...   \n",
       "1      0.269730                             -653.012112  ...   \n",
       "2      0.490338                            -1499.182131  ...   \n",
       "3      0.251469                             -390.281295  ...   \n",
       "4      0.408976                            -1314.824272  ...   \n",
       "\n",
       "   EXT_SOURCE_3^2 DAYS_BIRTH  EXT_SOURCE_2 EXT_SOURCE_1 DAYS_BIRTH  \\\n",
       "0               -8371.264056                          -6187.979921   \n",
       "1               -3950.633318                          -2420.988554   \n",
       "2                -943.002908                          -3057.448756   \n",
       "3               -3283.843797                          -1552.003633   \n",
       "4               -7143.485033                          -3214.915389   \n",
       "\n",
       "   EXT_SOURCE_3 EXT_SOURCE_2^3  EXT_SOURCE_3 EXT_SOURCE_2 DAYS_BIRTH^2  \\\n",
       "0                     0.195832                            1.517197e+08   \n",
       "1                     0.009267                            3.997025e+07   \n",
       "2                     0.034143                            1.795044e+07   \n",
       "3                     0.009825                            1.149876e+07   \n",
       "4                     0.046418                            6.679423e+07   \n",
       "\n",
       "   EXT_SOURCE_3^2 EXT_SOURCE_1 DAYS_BIRTH  \\\n",
       "0                            -4241.687178   \n",
       "1                            -2001.770650   \n",
       "2                             -522.991701   \n",
       "3                            -2355.810201   \n",
       "4                            -3619.576287   \n",
       "\n",
       "   EXT_SOURCE_3^2 EXT_SOURCE_2 EXT_SOURCE_1  \\\n",
       "0                                  0.152391   \n",
       "1                                  0.030481   \n",
       "2                                  0.022809   \n",
       "3                                  0.068861   \n",
       "4                                  0.095418   \n",
       "\n",
       "   EXT_SOURCE_3^2 EXT_SOURCE_2 DAYS_BIRTH  EXT_SOURCE_2 EXT_SOURCE_1  \\\n",
       "0                            -5545.006838                   0.335628   \n",
       "1                            -1065.602480                   0.136671   \n",
       "2                             -462.389797                   0.271942   \n",
       "3                             -825.785959                   0.180403   \n",
       "4                            -2921.516237                   0.207227   \n",
       "\n",
       "   EXT_SOURCE_2^3 DAYS_BIRTH  \\\n",
       "0               -5358.255153   \n",
       "1                -347.617909   \n",
       "2               -1325.463711   \n",
       "3                -136.805933   \n",
       "4               -1061.251416   \n",
       "\n",
       "   EXT_SOURCE_3 EXT_SOURCE_2 EXT_SOURCE_1 DAYS_BIRTH  \n",
       "0                                       -4169.646992  \n",
       "1                                       -1143.319938  \n",
       "2                                        -885.471520  \n",
       "3                                        -958.868424  \n",
       "4                                       -2181.537705  \n",
       "\n",
       "[5 rows x 28 columns]"
      ]
     },
     "execution_count": 54,
     "metadata": {},
     "output_type": "execute_result"
    }
   ],
   "source": [
    "# look at the selected features in test.\n",
    "poly_interaction_test[selected_inter_variables].head()"
   ]
  },
  {
   "cell_type": "code",
   "execution_count": 55,
   "metadata": {},
   "outputs": [],
   "source": [
    "#cleansing the data frame - removing the unselected columns.\n",
    "unselected_cols = [element for element in poly_interaction_train.columns if element not in selected_inter_variables]"
   ]
  },
  {
   "cell_type": "code",
   "execution_count": 56,
   "metadata": {},
   "outputs": [],
   "source": [
    "#dropping the unselected column\n",
    "poly_interaction_train = poly_interaction_train.drop(unselected_cols,axis=1)\n",
    "poly_interaction_test = poly_interaction_test.drop(list(set(unselected_cols).difference({'TARGET'})),axis=1)"
   ]
  },
  {
   "cell_type": "code",
   "execution_count": 57,
   "metadata": {},
   "outputs": [],
   "source": [
    "#joining EXT_SOURCE_2 and EXT_SOURCE_3 into train data frame \n",
    "train = train.join(poly_interaction_train.drop(['EXT_SOURCE_2', 'EXT_SOURCE_3'],axis=1))"
   ]
  },
  {
   "cell_type": "code",
   "execution_count": 58,
   "metadata": {},
   "outputs": [],
   "source": [
    "#joining EXT_SOURCE_2 and EXT_SOURCE_3 into test data frame \n",
    "test = test.join(poly_interaction_test.drop(['EXT_SOURCE_2', 'EXT_SOURCE_3'],axis=1))"
   ]
  },
  {
   "cell_type": "code",
   "execution_count": 59,
   "metadata": {},
   "outputs": [
    {
     "name": "stdout",
     "output_type": "stream",
     "text": [
      "The train dataset dimensions are as follows: (199882, 255)\n",
      "The test dataset dimensions are as follows: (107629, 254)\n"
     ]
    }
   ],
   "source": [
    "print(\"The train dataset dimensions are as follows: {}\".format(train.shape))\n",
    "print(\"The test dataset dimensions are as follows: {}\".format(test.shape))"
   ]
  },
  {
   "cell_type": "code",
   "execution_count": 60,
   "metadata": {},
   "outputs": [],
   "source": [
    "'''\n",
    "1. debt-to-income ratio(DIR) = Credit amount of the loan / Total Income = AMT_CREDIT/AMT_INCOME_TOTAL\n",
    "2. annuity-to-income ratio(AIR) = Loan annuity / Total Income = AMT_ANNUITY/AMT_INCOME_TOTAL\n",
    "3. annuity-to-credit ratio(ACR) = Loan annuity/ Credit amount of the loan = AMT_ANNUITY/AMT_CREDIT\n",
    "4. days-employed-to-age ratio(DAR) = Number of days employed/ Age of applicant = DAYS_EMPLOYED/DAYS_BIRTH\n",
    "'''\n",
    "#normalising some train data frame\n",
    "train['DIR'] = train['AMT_CREDIT']/train['AMT_INCOME_TOTAL']\n",
    "train['AIR'] = train['AMT_ANNUITY']/train['AMT_INCOME_TOTAL']\n",
    "train['ACR'] = train['AMT_ANNUITY']/train['AMT_CREDIT']\n",
    "train['DAR'] = train['DAYS_EMPLOYED']/train['DAYS_BIRTH']"
   ]
  },
  {
   "cell_type": "code",
   "execution_count": 61,
   "metadata": {},
   "outputs": [],
   "source": [
    "#normalising some test data frame\n",
    "test['DIR'] = test['AMT_CREDIT']/test['AMT_INCOME_TOTAL']\n",
    "test['AIR'] = test['AMT_ANNUITY']/test['AMT_INCOME_TOTAL']\n",
    "test['ACR'] = test['AMT_ANNUITY']/test['AMT_CREDIT']\n",
    "test['DAR'] = test['DAYS_EMPLOYED']/test['DAYS_BIRTH']"
   ]
  },
  {
   "cell_type": "code",
   "execution_count": 62,
   "metadata": {},
   "outputs": [],
   "source": [
    "#getting the correlation value of TARGET column\n",
    "corr_vals = train.corr()['TARGET']"
   ]
  },
  {
   "cell_type": "code",
   "execution_count": 63,
   "metadata": {},
   "outputs": [
    {
     "data": {
      "text/plain": [
       "DIR   -0.005668\n",
       "AIR    0.016765\n",
       "ACR    0.012598\n",
       "DAR   -0.069443\n",
       "Name: TARGET, dtype: float64"
      ]
     },
     "execution_count": 63,
     "metadata": {},
     "output_type": "execute_result"
    }
   ],
   "source": [
    "#printing the last 4 rows of corr_vals\n",
    "corr_vals.tail(4)"
   ]
  },
  {
   "cell_type": "code",
   "execution_count": 64,
   "metadata": {},
   "outputs": [],
   "source": [
    "# Filling up all the missing values. Imputation is done for the median value of every column.\n",
    "from sklearn.preprocessing import MinMaxScaler\n",
    "from sklearn.impute import SimpleImputer\n",
    "features = list(set(train.columns).difference({'TARGET'}))\n",
    "imputer = SimpleImputer(strategy=\"median\")"
   ]
  },
  {
   "cell_type": "code",
   "execution_count": 65,
   "metadata": {},
   "outputs": [],
   "source": [
    "#transform features by scaling each feature to a given range. We are scaling all features to be between 0 and 1.\n",
    "scaler = MinMaxScaler(feature_range = (0, 1))"
   ]
  },
  {
   "cell_type": "code",
   "execution_count": 66,
   "metadata": {},
   "outputs": [],
   "source": [
    "#getting the original data frame for our model\n",
    "imputer.fit(train.drop(['TARGET'],axis=1))\n",
    "train_transformed = imputer.transform(train.drop(['TARGET'],axis=1))\n",
    "test_transformed = imputer.transform(test)\n",
    "train_transformed = scaler.fit_transform(train_transformed)\n",
    "test_transformed = scaler.transform(test_transformed)"
   ]
  },
  {
   "cell_type": "code",
   "execution_count": 67,
   "metadata": {},
   "outputs": [
    {
     "name": "stdout",
     "output_type": "stream",
     "text": [
      "The train dataset dimensions are as follows: (199882, 258)\n",
      "The test dataset dimensions are as follows: (107629, 258)\n"
     ]
    }
   ],
   "source": [
    "print(\"The train dataset dimensions are as follows: {}\".format(train_transformed.shape))\n",
    "print(\"The test dataset dimensions are as follows: {}\".format(test_transformed.shape))"
   ]
  },
  {
   "cell_type": "code",
   "execution_count": 68,
   "metadata": {},
   "outputs": [],
   "source": [
    "#splitting the data set into validation and training part\n",
    "from sklearn.model_selection import train_test_split\n",
    "\n",
    "X_training_set, X_validation_set, y_training_set, y_validation_set = train_test_split(train_transformed, \n",
    "                                                                                      target, test_size=0.33, random_state=42)"
   ]
  },
  {
   "cell_type": "markdown",
   "metadata": {},
   "source": [
    "## Logistic Regression"
   ]
  },
  {
   "cell_type": "code",
   "execution_count": 69,
   "metadata": {},
   "outputs": [],
   "source": [
    "# Starting with Logistic Regression.\n",
    "\n",
    "from sklearn.linear_model import LogisticRegression\n",
    "\n",
    "logistic_regressor = LogisticRegression(C = 2)"
   ]
  },
  {
   "cell_type": "code",
   "execution_count": 70,
   "metadata": {},
   "outputs": [
    {
     "data": {
      "text/plain": [
       "LogisticRegression(C=2)"
      ]
     },
     "execution_count": 70,
     "metadata": {},
     "output_type": "execute_result"
    }
   ],
   "source": [
    "#fiting our model into Logistic Regression\n",
    "logistic_regressor.fit(X_training_set,y_training_set)"
   ]
  },
  {
   "cell_type": "code",
   "execution_count": 71,
   "metadata": {},
   "outputs": [],
   "source": [
    "log_regression_pred = logistic_regressor.predict(X_validation_set)"
   ]
  },
  {
   "cell_type": "code",
   "execution_count": 72,
   "metadata": {},
   "outputs": [],
   "source": [
    "#pd.DataFrame({'target':logistic_new})['target'].value_counts()"
   ]
  },
  {
   "cell_type": "code",
   "execution_count": 73,
   "metadata": {},
   "outputs": [],
   "source": [
    "log_regression_pred_test = logistic_regressor.predict_proba(test_transformed)"
   ]
  },
  {
   "cell_type": "code",
   "execution_count": 74,
   "metadata": {},
   "outputs": [
    {
     "data": {
      "text/plain": [
       "array([0.06686831, 0.11997769, 0.13229048, ..., 0.05650461, 0.06218663,\n",
       "       0.11422076])"
      ]
     },
     "execution_count": 74,
     "metadata": {},
     "output_type": "execute_result"
    }
   ],
   "source": [
    "# printing the final array of predictions.\n",
    "log_regression_pred_test[:,1]"
   ]
  },
  {
   "cell_type": "code",
   "execution_count": 75,
   "metadata": {},
   "outputs": [
    {
     "data": {
      "text/html": [
       "<div>\n",
       "<style scoped>\n",
       "    .dataframe tbody tr th:only-of-type {\n",
       "        vertical-align: middle;\n",
       "    }\n",
       "\n",
       "    .dataframe tbody tr th {\n",
       "        vertical-align: top;\n",
       "    }\n",
       "\n",
       "    .dataframe thead th {\n",
       "        text-align: right;\n",
       "    }\n",
       "</style>\n",
       "<table border=\"1\" class=\"dataframe\">\n",
       "  <thead>\n",
       "    <tr style=\"text-align: right;\">\n",
       "      <th></th>\n",
       "      <th>NAME_CONTRACT_TYPE</th>\n",
       "      <th>FLAG_OWN_CAR</th>\n",
       "      <th>FLAG_OWN_REALTY</th>\n",
       "      <th>CNT_CHILDREN</th>\n",
       "      <th>AMT_INCOME_TOTAL</th>\n",
       "      <th>AMT_CREDIT</th>\n",
       "      <th>AMT_ANNUITY</th>\n",
       "      <th>AMT_GOODS_PRICE</th>\n",
       "      <th>REGION_POPULATION_RELATIVE</th>\n",
       "      <th>DAYS_BIRTH</th>\n",
       "      <th>...</th>\n",
       "      <th>EXT_SOURCE_3 EXT_SOURCE_2^2 DAYS_BIRTH</th>\n",
       "      <th>EXT_SOURCE_3 EXT_SOURCE_2 EXT_SOURCE_1^2</th>\n",
       "      <th>EXT_SOURCE_3 EXT_SOURCE_2 EXT_SOURCE_1 DAYS_BIRTH</th>\n",
       "      <th>EXT_SOURCE_3 EXT_SOURCE_2 DAYS_BIRTH^2</th>\n",
       "      <th>EXT_SOURCE_2^3 DAYS_BIRTH</th>\n",
       "      <th>EXT_SOURCE_2^2 EXT_SOURCE_1 DAYS_BIRTH</th>\n",
       "      <th>DIR</th>\n",
       "      <th>AIR</th>\n",
       "      <th>ACR</th>\n",
       "      <th>DAR</th>\n",
       "    </tr>\n",
       "  </thead>\n",
       "  <tbody>\n",
       "    <tr>\n",
       "      <th>0</th>\n",
       "      <td>0</td>\n",
       "      <td>0</td>\n",
       "      <td>1</td>\n",
       "      <td>0</td>\n",
       "      <td>225000.0</td>\n",
       "      <td>728460.0</td>\n",
       "      <td>44694.0</td>\n",
       "      <td>675000.0</td>\n",
       "      <td>0.006008</td>\n",
       "      <td>-18437.0</td>\n",
       "      <td>...</td>\n",
       "      <td>-5450.831264</td>\n",
       "      <td>0.114593</td>\n",
       "      <td>-4169.646992</td>\n",
       "      <td>1.517197e+08</td>\n",
       "      <td>-5358.255153</td>\n",
       "      <td>-4098.830325</td>\n",
       "      <td>3.237600</td>\n",
       "      <td>0.198640</td>\n",
       "      <td>0.061354</td>\n",
       "      <td>0.011607</td>\n",
       "    </tr>\n",
       "    <tr>\n",
       "      <th>1</th>\n",
       "      <td>0</td>\n",
       "      <td>0</td>\n",
       "      <td>1</td>\n",
       "      <td>0</td>\n",
       "      <td>171000.0</td>\n",
       "      <td>630000.0</td>\n",
       "      <td>22756.5</td>\n",
       "      <td>630000.0</td>\n",
       "      <td>0.014520</td>\n",
       "      <td>-17714.0</td>\n",
       "      <td>...</td>\n",
       "      <td>-608.623451</td>\n",
       "      <td>0.032704</td>\n",
       "      <td>-1143.319938</td>\n",
       "      <td>3.997025e+07</td>\n",
       "      <td>-347.617909</td>\n",
       "      <td>-653.012112</td>\n",
       "      <td>3.684211</td>\n",
       "      <td>0.133079</td>\n",
       "      <td>0.036121</td>\n",
       "      <td>NaN</td>\n",
       "    </tr>\n",
       "    <tr>\n",
       "      <th>2</th>\n",
       "      <td>0</td>\n",
       "      <td>0</td>\n",
       "      <td>0</td>\n",
       "      <td>0</td>\n",
       "      <td>117000.0</td>\n",
       "      <td>724981.5</td>\n",
       "      <td>27742.5</td>\n",
       "      <td>648000.0</td>\n",
       "      <td>0.025164</td>\n",
       "      <td>-11243.0</td>\n",
       "      <td>...</td>\n",
       "      <td>-782.867100</td>\n",
       "      <td>0.043679</td>\n",
       "      <td>-885.471520</td>\n",
       "      <td>1.795044e+07</td>\n",
       "      <td>-1325.463711</td>\n",
       "      <td>-1499.182131</td>\n",
       "      <td>6.196423</td>\n",
       "      <td>0.237115</td>\n",
       "      <td>0.038266</td>\n",
       "      <td>0.136263</td>\n",
       "    </tr>\n",
       "    <tr>\n",
       "      <th>3</th>\n",
       "      <td>1</td>\n",
       "      <td>0</td>\n",
       "      <td>0</td>\n",
       "      <td>2</td>\n",
       "      <td>135000.0</td>\n",
       "      <td>180000.0</td>\n",
       "      <td>9000.0</td>\n",
       "      <td>180000.0</td>\n",
       "      <td>0.030755</td>\n",
       "      <td>-8603.0</td>\n",
       "      <td>...</td>\n",
       "      <td>-336.113699</td>\n",
       "      <td>0.079959</td>\n",
       "      <td>-958.868424</td>\n",
       "      <td>1.149876e+07</td>\n",
       "      <td>-136.805933</td>\n",
       "      <td>-390.281295</td>\n",
       "      <td>1.333333</td>\n",
       "      <td>0.066667</td>\n",
       "      <td>0.050000</td>\n",
       "      <td>0.179472</td>\n",
       "    </tr>\n",
       "    <tr>\n",
       "      <th>4</th>\n",
       "      <td>0</td>\n",
       "      <td>0</td>\n",
       "      <td>0</td>\n",
       "      <td>0</td>\n",
       "      <td>225000.0</td>\n",
       "      <td>248760.0</td>\n",
       "      <td>29650.5</td>\n",
       "      <td>225000.0</td>\n",
       "      <td>0.008019</td>\n",
       "      <td>-15514.0</td>\n",
       "      <td>...</td>\n",
       "      <td>-1760.813233</td>\n",
       "      <td>0.071250</td>\n",
       "      <td>-2181.537705</td>\n",
       "      <td>6.679423e+07</td>\n",
       "      <td>-1061.251416</td>\n",
       "      <td>-1314.824272</td>\n",
       "      <td>1.105600</td>\n",
       "      <td>0.131780</td>\n",
       "      <td>0.119193</td>\n",
       "      <td>0.026428</td>\n",
       "    </tr>\n",
       "    <tr>\n",
       "      <th>...</th>\n",
       "      <td>...</td>\n",
       "      <td>...</td>\n",
       "      <td>...</td>\n",
       "      <td>...</td>\n",
       "      <td>...</td>\n",
       "      <td>...</td>\n",
       "      <td>...</td>\n",
       "      <td>...</td>\n",
       "      <td>...</td>\n",
       "      <td>...</td>\n",
       "      <td>...</td>\n",
       "      <td>...</td>\n",
       "      <td>...</td>\n",
       "      <td>...</td>\n",
       "      <td>...</td>\n",
       "      <td>...</td>\n",
       "      <td>...</td>\n",
       "      <td>...</td>\n",
       "      <td>...</td>\n",
       "      <td>...</td>\n",
       "      <td>...</td>\n",
       "    </tr>\n",
       "    <tr>\n",
       "      <th>107624</th>\n",
       "      <td>0</td>\n",
       "      <td>0</td>\n",
       "      <td>1</td>\n",
       "      <td>1</td>\n",
       "      <td>202500.0</td>\n",
       "      <td>835380.0</td>\n",
       "      <td>40320.0</td>\n",
       "      <td>675000.0</td>\n",
       "      <td>0.035792</td>\n",
       "      <td>-13076.0</td>\n",
       "      <td>...</td>\n",
       "      <td>-1088.720311</td>\n",
       "      <td>0.001660</td>\n",
       "      <td>-189.691998</td>\n",
       "      <td>2.167126e+07</td>\n",
       "      <td>-3706.773922</td>\n",
       "      <td>-645.845719</td>\n",
       "      <td>4.125333</td>\n",
       "      <td>0.199111</td>\n",
       "      <td>0.048265</td>\n",
       "      <td>0.141939</td>\n",
       "    </tr>\n",
       "    <tr>\n",
       "      <th>107625</th>\n",
       "      <td>0</td>\n",
       "      <td>1</td>\n",
       "      <td>0</td>\n",
       "      <td>0</td>\n",
       "      <td>450000.0</td>\n",
       "      <td>1800000.0</td>\n",
       "      <td>56520.0</td>\n",
       "      <td>1800000.0</td>\n",
       "      <td>0.002506</td>\n",
       "      <td>-14611.0</td>\n",
       "      <td>...</td>\n",
       "      <td>-5130.242935</td>\n",
       "      <td>0.117736</td>\n",
       "      <td>-3395.026696</td>\n",
       "      <td>9.789839e+07</td>\n",
       "      <td>-6558.536482</td>\n",
       "      <td>-4340.224571</td>\n",
       "      <td>4.000000</td>\n",
       "      <td>0.125600</td>\n",
       "      <td>0.031400</td>\n",
       "      <td>0.502498</td>\n",
       "    </tr>\n",
       "    <tr>\n",
       "      <th>107626</th>\n",
       "      <td>0</td>\n",
       "      <td>1</td>\n",
       "      <td>1</td>\n",
       "      <td>1</td>\n",
       "      <td>112500.0</td>\n",
       "      <td>301095.0</td>\n",
       "      <td>23773.5</td>\n",
       "      <td>279000.0</td>\n",
       "      <td>0.019101</td>\n",
       "      <td>-15610.0</td>\n",
       "      <td>...</td>\n",
       "      <td>-5202.312262</td>\n",
       "      <td>0.047334</td>\n",
       "      <td>-2351.365063</td>\n",
       "      <td>1.168055e+08</td>\n",
       "      <td>-5245.796922</td>\n",
       "      <td>-2371.019460</td>\n",
       "      <td>2.676400</td>\n",
       "      <td>0.211320</td>\n",
       "      <td>0.078957</td>\n",
       "      <td>0.138821</td>\n",
       "    </tr>\n",
       "    <tr>\n",
       "      <th>107627</th>\n",
       "      <td>1</td>\n",
       "      <td>0</td>\n",
       "      <td>1</td>\n",
       "      <td>0</td>\n",
       "      <td>94500.0</td>\n",
       "      <td>180000.0</td>\n",
       "      <td>9000.0</td>\n",
       "      <td>180000.0</td>\n",
       "      <td>0.011703</td>\n",
       "      <td>-8200.0</td>\n",
       "      <td>...</td>\n",
       "      <td>-990.353327</td>\n",
       "      <td>0.051972</td>\n",
       "      <td>-841.072942</td>\n",
       "      <td>1.361131e+07</td>\n",
       "      <td>-1741.510703</td>\n",
       "      <td>-1479.005009</td>\n",
       "      <td>1.904762</td>\n",
       "      <td>0.095238</td>\n",
       "      <td>0.050000</td>\n",
       "      <td>0.075122</td>\n",
       "    </tr>\n",
       "    <tr>\n",
       "      <th>107628</th>\n",
       "      <td>0</td>\n",
       "      <td>0</td>\n",
       "      <td>1</td>\n",
       "      <td>0</td>\n",
       "      <td>99000.0</td>\n",
       "      <td>675000.0</td>\n",
       "      <td>21775.5</td>\n",
       "      <td>675000.0</td>\n",
       "      <td>0.010500</td>\n",
       "      <td>-20893.0</td>\n",
       "      <td>...</td>\n",
       "      <td>-1071.831801</td>\n",
       "      <td>0.038498</td>\n",
       "      <td>-1587.405293</td>\n",
       "      <td>6.545473e+07</td>\n",
       "      <td>-836.681244</td>\n",
       "      <td>-1239.142404</td>\n",
       "      <td>6.818182</td>\n",
       "      <td>0.219955</td>\n",
       "      <td>0.032260</td>\n",
       "      <td>NaN</td>\n",
       "    </tr>\n",
       "  </tbody>\n",
       "</table>\n",
       "<p>107629 rows × 258 columns</p>\n",
       "</div>"
      ],
      "text/plain": [
       "        NAME_CONTRACT_TYPE  FLAG_OWN_CAR  FLAG_OWN_REALTY  CNT_CHILDREN  \\\n",
       "0                        0             0                1             0   \n",
       "1                        0             0                1             0   \n",
       "2                        0             0                0             0   \n",
       "3                        1             0                0             2   \n",
       "4                        0             0                0             0   \n",
       "...                    ...           ...              ...           ...   \n",
       "107624                   0             0                1             1   \n",
       "107625                   0             1                0             0   \n",
       "107626                   0             1                1             1   \n",
       "107627                   1             0                1             0   \n",
       "107628                   0             0                1             0   \n",
       "\n",
       "        AMT_INCOME_TOTAL  AMT_CREDIT  AMT_ANNUITY  AMT_GOODS_PRICE  \\\n",
       "0               225000.0    728460.0      44694.0         675000.0   \n",
       "1               171000.0    630000.0      22756.5         630000.0   \n",
       "2               117000.0    724981.5      27742.5         648000.0   \n",
       "3               135000.0    180000.0       9000.0         180000.0   \n",
       "4               225000.0    248760.0      29650.5         225000.0   \n",
       "...                  ...         ...          ...              ...   \n",
       "107624          202500.0    835380.0      40320.0         675000.0   \n",
       "107625          450000.0   1800000.0      56520.0        1800000.0   \n",
       "107626          112500.0    301095.0      23773.5         279000.0   \n",
       "107627           94500.0    180000.0       9000.0         180000.0   \n",
       "107628           99000.0    675000.0      21775.5         675000.0   \n",
       "\n",
       "        REGION_POPULATION_RELATIVE  DAYS_BIRTH  ...  \\\n",
       "0                         0.006008    -18437.0  ...   \n",
       "1                         0.014520    -17714.0  ...   \n",
       "2                         0.025164    -11243.0  ...   \n",
       "3                         0.030755     -8603.0  ...   \n",
       "4                         0.008019    -15514.0  ...   \n",
       "...                            ...         ...  ...   \n",
       "107624                    0.035792    -13076.0  ...   \n",
       "107625                    0.002506    -14611.0  ...   \n",
       "107626                    0.019101    -15610.0  ...   \n",
       "107627                    0.011703     -8200.0  ...   \n",
       "107628                    0.010500    -20893.0  ...   \n",
       "\n",
       "        EXT_SOURCE_3 EXT_SOURCE_2^2 DAYS_BIRTH  \\\n",
       "0                                 -5450.831264   \n",
       "1                                  -608.623451   \n",
       "2                                  -782.867100   \n",
       "3                                  -336.113699   \n",
       "4                                 -1760.813233   \n",
       "...                                        ...   \n",
       "107624                            -1088.720311   \n",
       "107625                            -5130.242935   \n",
       "107626                            -5202.312262   \n",
       "107627                             -990.353327   \n",
       "107628                            -1071.831801   \n",
       "\n",
       "        EXT_SOURCE_3 EXT_SOURCE_2 EXT_SOURCE_1^2  \\\n",
       "0                                       0.114593   \n",
       "1                                       0.032704   \n",
       "2                                       0.043679   \n",
       "3                                       0.079959   \n",
       "4                                       0.071250   \n",
       "...                                          ...   \n",
       "107624                                  0.001660   \n",
       "107625                                  0.117736   \n",
       "107626                                  0.047334   \n",
       "107627                                  0.051972   \n",
       "107628                                  0.038498   \n",
       "\n",
       "        EXT_SOURCE_3 EXT_SOURCE_2 EXT_SOURCE_1 DAYS_BIRTH  \\\n",
       "0                                            -4169.646992   \n",
       "1                                            -1143.319938   \n",
       "2                                             -885.471520   \n",
       "3                                             -958.868424   \n",
       "4                                            -2181.537705   \n",
       "...                                                   ...   \n",
       "107624                                        -189.691998   \n",
       "107625                                       -3395.026696   \n",
       "107626                                       -2351.365063   \n",
       "107627                                        -841.072942   \n",
       "107628                                       -1587.405293   \n",
       "\n",
       "        EXT_SOURCE_3 EXT_SOURCE_2 DAYS_BIRTH^2  EXT_SOURCE_2^3 DAYS_BIRTH  \\\n",
       "0                                 1.517197e+08               -5358.255153   \n",
       "1                                 3.997025e+07                -347.617909   \n",
       "2                                 1.795044e+07               -1325.463711   \n",
       "3                                 1.149876e+07                -136.805933   \n",
       "4                                 6.679423e+07               -1061.251416   \n",
       "...                                        ...                        ...   \n",
       "107624                            2.167126e+07               -3706.773922   \n",
       "107625                            9.789839e+07               -6558.536482   \n",
       "107626                            1.168055e+08               -5245.796922   \n",
       "107627                            1.361131e+07               -1741.510703   \n",
       "107628                            6.545473e+07                -836.681244   \n",
       "\n",
       "        EXT_SOURCE_2^2 EXT_SOURCE_1 DAYS_BIRTH       DIR       AIR       ACR  \\\n",
       "0                                 -4098.830325  3.237600  0.198640  0.061354   \n",
       "1                                  -653.012112  3.684211  0.133079  0.036121   \n",
       "2                                 -1499.182131  6.196423  0.237115  0.038266   \n",
       "3                                  -390.281295  1.333333  0.066667  0.050000   \n",
       "4                                 -1314.824272  1.105600  0.131780  0.119193   \n",
       "...                                        ...       ...       ...       ...   \n",
       "107624                             -645.845719  4.125333  0.199111  0.048265   \n",
       "107625                            -4340.224571  4.000000  0.125600  0.031400   \n",
       "107626                            -2371.019460  2.676400  0.211320  0.078957   \n",
       "107627                            -1479.005009  1.904762  0.095238  0.050000   \n",
       "107628                            -1239.142404  6.818182  0.219955  0.032260   \n",
       "\n",
       "             DAR  \n",
       "0       0.011607  \n",
       "1            NaN  \n",
       "2       0.136263  \n",
       "3       0.179472  \n",
       "4       0.026428  \n",
       "...          ...  \n",
       "107624  0.141939  \n",
       "107625  0.502498  \n",
       "107626  0.138821  \n",
       "107627  0.075122  \n",
       "107628       NaN  \n",
       "\n",
       "[107629 rows x 258 columns]"
      ]
     },
     "execution_count": 75,
     "metadata": {},
     "output_type": "execute_result"
    }
   ],
   "source": [
    "test"
   ]
  },
  {
   "cell_type": "code",
   "execution_count": 76,
   "metadata": {},
   "outputs": [],
   "source": [
    "#Submitting our model and getting output(new cell above this cell)\n",
    "submission_log_regression = skid"
   ]
  },
  {
   "cell_type": "code",
   "execution_count": 79,
   "metadata": {},
   "outputs": [],
   "source": [
    "x = log_regression_pred_test[:,1]\n",
    "Target = pd.Series(x)"
   ]
  },
  {
   "cell_type": "code",
   "execution_count": 80,
   "metadata": {},
   "outputs": [],
   "source": [
    "submission_log_regression = pd.concat([submission_log_regression, Target], axis = 1, join = 'inner')"
   ]
  },
  {
   "cell_type": "code",
   "execution_count": 81,
   "metadata": {},
   "outputs": [],
   "source": [
    "submission_log_regression = submission_log_regression.rename(columns = {\"SK_ID_CURR\":\"SK_ID_CURR\", 0:\"TARGET\"})"
   ]
  },
  {
   "cell_type": "code",
   "execution_count": 82,
   "metadata": {},
   "outputs": [
    {
     "data": {
      "text/html": [
       "<div>\n",
       "<style scoped>\n",
       "    .dataframe tbody tr th:only-of-type {\n",
       "        vertical-align: middle;\n",
       "    }\n",
       "\n",
       "    .dataframe tbody tr th {\n",
       "        vertical-align: top;\n",
       "    }\n",
       "\n",
       "    .dataframe thead th {\n",
       "        text-align: right;\n",
       "    }\n",
       "</style>\n",
       "<table border=\"1\" class=\"dataframe\">\n",
       "  <thead>\n",
       "    <tr style=\"text-align: right;\">\n",
       "      <th></th>\n",
       "      <th>SK_ID_CURR</th>\n",
       "      <th>TARGET</th>\n",
       "    </tr>\n",
       "  </thead>\n",
       "  <tbody>\n",
       "    <tr>\n",
       "      <th>0</th>\n",
       "      <td>7auxod</td>\n",
       "      <td>0.066868</td>\n",
       "    </tr>\n",
       "    <tr>\n",
       "      <th>1</th>\n",
       "      <td>xur7ur</td>\n",
       "      <td>0.119978</td>\n",
       "    </tr>\n",
       "    <tr>\n",
       "      <th>2</th>\n",
       "      <td>eau6rx</td>\n",
       "      <td>0.132290</td>\n",
       "    </tr>\n",
       "    <tr>\n",
       "      <th>3</th>\n",
       "      <td>obdr67</td>\n",
       "      <td>0.064800</td>\n",
       "    </tr>\n",
       "    <tr>\n",
       "      <th>4</th>\n",
       "      <td>7xbu7d</td>\n",
       "      <td>0.118804</td>\n",
       "    </tr>\n",
       "    <tr>\n",
       "      <th>...</th>\n",
       "      <td>...</td>\n",
       "      <td>...</td>\n",
       "    </tr>\n",
       "    <tr>\n",
       "      <th>107624</th>\n",
       "      <td>x7o6ud</td>\n",
       "      <td>0.235688</td>\n",
       "    </tr>\n",
       "    <tr>\n",
       "      <th>107625</th>\n",
       "      <td>ueexer</td>\n",
       "      <td>0.012673</td>\n",
       "    </tr>\n",
       "    <tr>\n",
       "      <th>107626</th>\n",
       "      <td>ou7exx</td>\n",
       "      <td>0.056505</td>\n",
       "    </tr>\n",
       "    <tr>\n",
       "      <th>107627</th>\n",
       "      <td>6ux6rd</td>\n",
       "      <td>0.062187</td>\n",
       "    </tr>\n",
       "    <tr>\n",
       "      <th>107628</th>\n",
       "      <td>7rx7ed</td>\n",
       "      <td>0.114221</td>\n",
       "    </tr>\n",
       "  </tbody>\n",
       "</table>\n",
       "<p>107629 rows × 2 columns</p>\n",
       "</div>"
      ],
      "text/plain": [
       "       SK_ID_CURR    TARGET\n",
       "0          7auxod  0.066868\n",
       "1          xur7ur  0.119978\n",
       "2          eau6rx  0.132290\n",
       "3          obdr67  0.064800\n",
       "4          7xbu7d  0.118804\n",
       "...           ...       ...\n",
       "107624     x7o6ud  0.235688\n",
       "107625     ueexer  0.012673\n",
       "107626     ou7exx  0.056505\n",
       "107627     6ux6rd  0.062187\n",
       "107628     7rx7ed  0.114221\n",
       "\n",
       "[107629 rows x 2 columns]"
      ]
     },
     "execution_count": 82,
     "metadata": {},
     "output_type": "execute_result"
    }
   ],
   "source": [
    "submission_log_regression"
   ]
  },
  {
   "cell_type": "markdown",
   "metadata": {},
   "source": [
    "#### If you don't want to get the logistic regression model's output you needn't run the cell just below this cell. If you want to run then uncomment the cell and run it."
   ]
  },
  {
   "cell_type": "code",
   "execution_count": 83,
   "metadata": {},
   "outputs": [],
   "source": [
    "#submission_log_regression.to_csv(\"log_regression.csv\",index=False)"
   ]
  },
  {
   "cell_type": "markdown",
   "metadata": {},
   "source": [
    "### Random Forest Classifier"
   ]
  },
  {
   "cell_type": "code",
   "execution_count": 84,
   "metadata": {},
   "outputs": [],
   "source": [
    "# Importing the randomforestclassifier.\n",
    "from sklearn.ensemble import RandomForestClassifier\n",
    "\n",
    "random_forest = RandomForestClassifier(n_estimators = 500, random_state = 50, verbose = 1, n_jobs = -1)"
   ]
  },
  {
   "cell_type": "code",
   "execution_count": 85,
   "metadata": {},
   "outputs": [
    {
     "name": "stderr",
     "output_type": "stream",
     "text": [
      "[Parallel(n_jobs=-1)]: Using backend ThreadingBackend with 16 concurrent workers.\n",
      "[Parallel(n_jobs=-1)]: Done  18 tasks      | elapsed:    4.6s\n",
      "[Parallel(n_jobs=-1)]: Done 168 tasks      | elapsed:   24.6s\n",
      "[Parallel(n_jobs=-1)]: Done 418 tasks      | elapsed:   58.0s\n",
      "[Parallel(n_jobs=-1)]: Done 500 out of 500 | elapsed:  1.1min finished\n"
     ]
    },
    {
     "data": {
      "text/plain": [
       "RandomForestClassifier(n_estimators=500, n_jobs=-1, random_state=50, verbose=1)"
      ]
     },
     "execution_count": 85,
     "metadata": {},
     "output_type": "execute_result"
    }
   ],
   "source": [
    "random_forest.fit(X_training_set,y_training_set)"
   ]
  },
  {
   "cell_type": "code",
   "execution_count": 86,
   "metadata": {},
   "outputs": [
    {
     "name": "stderr",
     "output_type": "stream",
     "text": [
      "[Parallel(n_jobs=16)]: Using backend ThreadingBackend with 16 concurrent workers.\n",
      "[Parallel(n_jobs=16)]: Done  18 tasks      | elapsed:    0.1s\n",
      "[Parallel(n_jobs=16)]: Done 168 tasks      | elapsed:    0.5s\n",
      "[Parallel(n_jobs=16)]: Done 418 tasks      | elapsed:    1.4s\n",
      "[Parallel(n_jobs=16)]: Done 500 out of 500 | elapsed:    1.6s finished\n"
     ]
    }
   ],
   "source": [
    "random_forest_pred = random_forest.predict(X_validation_set)"
   ]
  },
  {
   "cell_type": "code",
   "execution_count": 87,
   "metadata": {},
   "outputs": [
    {
     "name": "stdout",
     "output_type": "stream",
     "text": [
      "The accuracy in general is :  0.9198781116400352\n",
      "\n",
      "\n",
      "The classification report is as follows:\n",
      "               precision    recall  f1-score   support\n",
      "\n",
      "           0       0.92      1.00      0.96     60661\n",
      "           1       0.59      0.01      0.02      5301\n",
      "\n",
      "    accuracy                           0.92     65962\n",
      "   macro avg       0.75      0.50      0.49     65962\n",
      "weighted avg       0.89      0.92      0.88     65962\n",
      "\n",
      "ROC AUC score is:  0.504780162538177\n"
     ]
    }
   ],
   "source": [
    "# Printing the ROC AUC scores and the accuracy scores. \n",
    "from sklearn.metrics import accuracy_score,classification_report,roc_auc_score\n",
    "print(\"The accuracy in general is : \", accuracy_score(y_validation_set,random_forest_pred))\n",
    "print(\"\\n\")\n",
    "print(\"The classification report is as follows:\\n\", classification_report(y_validation_set,random_forest_pred))\n",
    "print(\"ROC AUC score is: \",roc_auc_score(y_validation_set,random_forest_pred))"
   ]
  },
  {
   "cell_type": "code",
   "execution_count": 88,
   "metadata": {},
   "outputs": [
    {
     "name": "stderr",
     "output_type": "stream",
     "text": [
      "[Parallel(n_jobs=16)]: Using backend ThreadingBackend with 16 concurrent workers.\n",
      "[Parallel(n_jobs=16)]: Done  18 tasks      | elapsed:    0.1s\n",
      "[Parallel(n_jobs=16)]: Done 168 tasks      | elapsed:    0.9s\n",
      "[Parallel(n_jobs=16)]: Done 418 tasks      | elapsed:    2.2s\n",
      "[Parallel(n_jobs=16)]: Done 500 out of 500 | elapsed:    2.7s finished\n"
     ]
    }
   ],
   "source": [
    "# Getting the predictions of the test dataset.\n",
    "random_forest_pred_test = random_forest.predict_proba(test_transformed)"
   ]
  },
  {
   "cell_type": "code",
   "execution_count": 95,
   "metadata": {},
   "outputs": [],
   "source": [
    "submission_random_forest = skid\n",
    "x = random_forest_pred_test[:,1]\n",
    "Target = pd.Series(x)\n",
    "submission_random_forest = pd.concat([submission_random_forest, Target], axis = 1, join = 'inner')\n",
    "submission_random_forest = submission_random_forest.rename(columns = {\"SK_ID_CURR\":\"SK_ID_CURR\", 0:\"TARGET\"})"
   ]
  },
  {
   "cell_type": "markdown",
   "metadata": {},
   "source": [
    "#### The cell given below gives the output of the random forest trees algorithm. If you want to run it, please uncomment it and then run it. "
   ]
  },
  {
   "cell_type": "code",
   "execution_count": 96,
   "metadata": {},
   "outputs": [],
   "source": [
    "#submission_random_forest.to_csv(\"random_forest.csv\",index=False)"
   ]
  },
  {
   "cell_type": "markdown",
   "metadata": {},
   "source": [
    "### Xgboost"
   ]
  },
  {
   "cell_type": "code",
   "execution_count": 98,
   "metadata": {},
   "outputs": [],
   "source": [
    "# Importing the xgboost classifier.\n",
    "from xgboost import XGBClassifier"
   ]
  },
  {
   "cell_type": "code",
   "execution_count": 99,
   "metadata": {},
   "outputs": [],
   "source": [
    "xgb_classifier = XGBClassifier(n_estimators=250,max_depth=5)"
   ]
  },
  {
   "cell_type": "code",
   "execution_count": 100,
   "metadata": {},
   "outputs": [
    {
     "name": "stdout",
     "output_type": "stream",
     "text": [
      "[17:08:08] WARNING: /Users/runner/miniforge3/conda-bld/xgboost_1607604592557/work/src/learner.cc:1061: Starting in XGBoost 1.3.0, the default evaluation metric used with the objective 'binary:logistic' was changed from 'error' to 'logloss'. Explicitly set eval_metric if you'd like to restore the old behavior.\n"
     ]
    },
    {
     "data": {
      "text/plain": [
       "XGBClassifier(base_score=0.5, booster='gbtree', colsample_bylevel=1,\n",
       "              colsample_bynode=1, colsample_bytree=1, gamma=0, gpu_id=-1,\n",
       "              importance_type='gain', interaction_constraints='',\n",
       "              learning_rate=0.300000012, max_delta_step=0, max_depth=5,\n",
       "              min_child_weight=1, missing=nan, monotone_constraints='()',\n",
       "              n_estimators=250, n_jobs=16, num_parallel_tree=1, random_state=0,\n",
       "              reg_alpha=0, reg_lambda=1, scale_pos_weight=1, subsample=1,\n",
       "              tree_method='exact', validate_parameters=1, verbosity=None)"
      ]
     },
     "execution_count": 100,
     "metadata": {},
     "output_type": "execute_result"
    }
   ],
   "source": [
    "xgb_classifier.fit(X_training_set,y_training_set)"
   ]
  },
  {
   "cell_type": "code",
   "execution_count": 101,
   "metadata": {},
   "outputs": [],
   "source": [
    "# Get the predictions of the validation set of xgboost.\n",
    "xgb_pred = xgb_classifier.predict(X_validation_set)"
   ]
  },
  {
   "cell_type": "code",
   "execution_count": 103,
   "metadata": {},
   "outputs": [
    {
     "name": "stdout",
     "output_type": "stream",
     "text": [
      "The accuracy in general is :  0.9181346836057124\n",
      "\n",
      "\n",
      "The classification report is as follows:\n",
      "               precision    recall  f1-score   support\n",
      "\n",
      "           0       0.92      0.99      0.96     60661\n",
      "           1       0.41      0.04      0.08      5301\n",
      "\n",
      "    accuracy                           0.92     65962\n",
      "   macro avg       0.67      0.52      0.52     65962\n",
      "weighted avg       0.88      0.92      0.89     65962\n",
      "\n",
      "ROC AUC score is:  0.5180353559583127\n"
     ]
    }
   ],
   "source": [
    "# Printing the AUC scores and the accuracy scores as shown below. We do this by importing accuracy_score, classification_report and roc_auc_score.\n",
    "from sklearn.metrics import accuracy_score,classification_report,roc_auc_score\n",
    "print(\"The accuracy in general is : \", accuracy_score(y_validation_set,xgb_pred))\n",
    "print(\"\\n\")\n",
    "print(\"The classification report is as follows:\\n\", classification_report(y_validation_set,xgb_pred))\n",
    "print(\"ROC AUC score is: \",roc_auc_score(y_validation_set,xgb_pred))"
   ]
  },
  {
   "cell_type": "code",
   "execution_count": 104,
   "metadata": {},
   "outputs": [],
   "source": [
    "# Getting the predictions of test data set.\n",
    "xgb_pred_test = xgb_classifier.predict_proba(test_transformed)"
   ]
  },
  {
   "cell_type": "code",
   "execution_count": 108,
   "metadata": {},
   "outputs": [],
   "source": [
    "submission_xgb = skid\n",
    "x = xgb_pred_test[:,1]\n",
    "Target = pd.Series(x)\n",
    "submission_xgb = pd.concat([submission_xgb, Target], axis = 1, join = 'inner')\n",
    "submission_xgb = submission_xgb.rename(columns = {\"SK_ID_CURR\":\"SK_ID_CURR\", 0:\"TARGET\"})"
   ]
  },
  {
   "cell_type": "markdown",
   "metadata": {},
   "source": [
    "#### The cell given below will be giving you the output of the xgboost algorithm in a .csv format for the given testing data set. Please uncomment it first incase you want to run it."
   ]
  },
  {
   "cell_type": "code",
   "execution_count": 109,
   "metadata": {},
   "outputs": [],
   "source": [
    "#submission_xgb.to_csv(\"xgb.csv\",index=False)"
   ]
  },
  {
   "cell_type": "markdown",
   "metadata": {},
   "source": [
    "### Lightgbm"
   ]
  },
  {
   "cell_type": "code",
   "execution_count": 111,
   "metadata": {},
   "outputs": [],
   "source": [
    "import lightgbm as lgb"
   ]
  },
  {
   "cell_type": "code",
   "execution_count": 112,
   "metadata": {},
   "outputs": [],
   "source": [
    "lgb_classifier = lgb.LGBMClassifier(boosting_type='gbdt', class_weight=None, colsample_bytree=1.0,\n",
    "        learning_rate=0.1, max_depth=-1, min_child_samples=20,\n",
    "        min_child_weight=0.001, min_split_gain=0.0, n_estimators=100,\n",
    "        n_jobs=-1, num_leaves=40, objective=None, random_state=None,\n",
    "        reg_alpha=0.0, reg_lambda=0.0, silent=True, subsample=1.0,\n",
    "        subsample_for_bin=200000, subsample_freq=0)"
   ]
  },
  {
   "cell_type": "code",
   "execution_count": 113,
   "metadata": {},
   "outputs": [
    {
     "data": {
      "text/plain": [
       "LGBMClassifier(num_leaves=40)"
      ]
     },
     "execution_count": 113,
     "metadata": {},
     "output_type": "execute_result"
    }
   ],
   "source": [
    "lgb_classifier.fit(X_training_set,y_training_set)"
   ]
  },
  {
   "cell_type": "code",
   "execution_count": 118,
   "metadata": {},
   "outputs": [],
   "source": [
    "lgb_pred = lgb_classifier.predict(X_validation_set)\n",
    "lgb_pred_test = lgb_classifier.predict(test_transformed)"
   ]
  },
  {
   "cell_type": "code",
   "execution_count": 119,
   "metadata": {},
   "outputs": [],
   "source": [
    "submission_lgb = skid\n",
    "x = lgb_pred_test\n",
    "Target = pd.Series(x)\n",
    "submission_lgb = pd.concat([submission_lgb, Target], axis = 1, join = 'inner')\n",
    "submission_lgb = submission_lgb.rename(columns = {\"SK_ID_CURR\":\"SK_ID_CURR\", 0:\"TARGET\"})"
   ]
  },
  {
   "cell_type": "markdown",
   "metadata": {},
   "source": [
    "#### The cell given below gives the output of the lightgbm model on the test data set. Incase you want to run it, please uncomment it first. "
   ]
  },
  {
   "cell_type": "code",
   "execution_count": 120,
   "metadata": {},
   "outputs": [],
   "source": [
    "#submission_lgb.to_csv(\"lgb.csv\", index = False)"
   ]
  },
  {
   "cell_type": "markdown",
   "metadata": {},
   "source": [
    "### Naive Bayes"
   ]
  },
  {
   "cell_type": "code",
   "execution_count": 121,
   "metadata": {},
   "outputs": [],
   "source": [
    "# Importing the Naive Bayes class. \n",
    "from sklearn.naive_bayes import GaussianNB"
   ]
  },
  {
   "cell_type": "code",
   "execution_count": 122,
   "metadata": {},
   "outputs": [],
   "source": [
    "bayes_class = GaussianNB()"
   ]
  },
  {
   "cell_type": "code",
   "execution_count": 123,
   "metadata": {},
   "outputs": [
    {
     "data": {
      "text/plain": [
       "GaussianNB()"
      ]
     },
     "execution_count": 123,
     "metadata": {},
     "output_type": "execute_result"
    }
   ],
   "source": [
    "bayes_class.fit(X_training_set,y_training_set)"
   ]
  },
  {
   "cell_type": "code",
   "execution_count": 124,
   "metadata": {},
   "outputs": [],
   "source": [
    "bayes_preds = bayes_class.predict(X_validation_set)"
   ]
  },
  {
   "cell_type": "code",
   "execution_count": 130,
   "metadata": {},
   "outputs": [],
   "source": [
    "bayes_new = bayes_class.predict(test_transformed)"
   ]
  },
  {
   "cell_type": "code",
   "execution_count": 131,
   "metadata": {},
   "outputs": [],
   "source": [
    "submission_bayes = skid\n",
    "x = bayes_new\n",
    "Target = pd.Series(x)\n",
    "submission_bayes = pd.concat([submission_bayes, Target], axis = 1, join = 'inner')\n",
    "submission_bayes = submission_bayes.rename(columns = {\"SK_ID_CURR\":\"SK_ID_CURR\", 0:\"TARGET\"})"
   ]
  },
  {
   "cell_type": "markdown",
   "metadata": {},
   "source": [
    "#### The cell given below gives the output of the Naive Bayes model on the test data set. Incase you want to run it, please uncomment it first. "
   ]
  },
  {
   "cell_type": "code",
   "execution_count": 127,
   "metadata": {},
   "outputs": [],
   "source": [
    "#submission_bayes.to_csv(\"bayes.csv\",index=False)"
   ]
  },
  {
   "cell_type": "markdown",
   "metadata": {},
   "source": [
    "# Ensembling"
   ]
  },
  {
   "cell_type": "code",
   "execution_count": 132,
   "metadata": {},
   "outputs": [],
   "source": [
    "from scipy import stats\n",
    "def stacked_model(X_training_set):\n",
    "    \"\"\"\n",
    "    This method performs the stacked ensambling of the 2 best models (these 2 gave\n",
    "    us the highest score in the kaggle competition) - XGBoost and Logistic Regression.\n",
    "    \"\"\"  \n",
    "    stacked_predictions = np.array([])\n",
    "\n",
    "    for element in X_training_set:\n",
    "         stacked_predictions = np.append(stacked_predictions,stats.mode(element)[0][0])\n",
    "\n",
    "    return stacked_predictions"
   ]
  },
  {
   "cell_type": "code",
   "execution_count": 144,
   "metadata": {},
   "outputs": [],
   "source": [
    "# forming a combined array of the 2 best models i.e Logistic Regression and Xgboost. \n",
    "combined_array = (pd.DataFrame({'LR':log_regression_pred_test[:, 1],\n",
    "                                'XGB':xgb_pred_test[:,1]}).values)"
   ]
  },
  {
   "cell_type": "code",
   "execution_count": 145,
   "metadata": {},
   "outputs": [],
   "source": [
    "# Using the stacked ensemble inbuilt class and predicting the results of the stacked ensemble model.\n",
    "stacked_model_pred = stacked_model(combined_array)"
   ]
  },
  {
   "cell_type": "code",
   "execution_count": 146,
   "metadata": {},
   "outputs": [
    {
     "data": {
      "text/plain": [
       "array([0.06686831, 0.09355427, 0.04584508, ..., 0.05650461, 0.06218663,\n",
       "       0.06499539])"
      ]
     },
     "execution_count": 146,
     "metadata": {},
     "output_type": "execute_result"
    }
   ],
   "source": [
    "stacked_model_pred"
   ]
  },
  {
   "cell_type": "code",
   "execution_count": 147,
   "metadata": {},
   "outputs": [],
   "source": [
    "submission_stacked = skid\n",
    "x = stacked_model_pred\n",
    "Target = pd.Series(x)\n",
    "submission_stacked = pd.concat([submission_stacked, Target], axis = 1, join = 'inner')\n",
    "submission_stacked = submission_stacked.rename(columns = {\"SK_ID_CURR\":\"SK_ID_CURR\", 0:\"TARGET\"})"
   ]
  },
  {
   "cell_type": "code",
   "execution_count": 148,
   "metadata": {},
   "outputs": [],
   "source": [
    "submission_stacked.to_csv(\"stacked.csv\", index = False)"
   ]
  }
 ],
 "metadata": {
  "kernelspec": {
   "display_name": "Python 3",
   "language": "python",
   "name": "python3"
  },
  "language_info": {
   "codemirror_mode": {
    "name": "ipython",
    "version": 3
   },
   "file_extension": ".py",
   "mimetype": "text/x-python",
   "name": "python",
   "nbconvert_exporter": "python",
   "pygments_lexer": "ipython3",
   "version": "3.8.3"
  }
 },
 "nbformat": 4,
 "nbformat_minor": 4
}
